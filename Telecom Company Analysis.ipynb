{
 "cells": [
  {
   "cell_type": "markdown",
   "id": "0906f117",
   "metadata": {
    "heading_collapsed": true
   },
   "source": [
    "## Customer Analysis (Telecom Company) \n",
    "\n",
    "This notebook will be a walk-through of an exploratory analysis of the customers for a telecom company. The company is interested in developing a classification model that can predict whether or not a customer will churn. In addition to this model, they are looking for additional insights into how they can optimize their business, to best serve their customers.\n",
    "\n",
    "* Question 1: What type of phone call is generating the most money for the company? daytime, evening, night, or international? \n",
    "* Question 2: Are customers using more minutes during the day or at night?\n",
    "* Question 3: Which state is using the most minutes overall?\n",
    "* Question 4: Which state is generating the most service calls?\n",
    "* Question 5: Is the number of service calls made by a customer correlated to churn\n",
    "\n",
    "The hope is that model will help them make better predictions of when a customer might churn. With some more detail on the behavior of the customers, the company can make better decisions in terms of staffing as well as resource allocation. This Notebook will be accompanied by a tableau dashboard which can be found here: https://public.tableau.com/app/profile/cole.howson/viz/ColeHowsonCapstoneProject/Dashboard1?publish=yes\n",
    "\n",
    "The tableau dashboard is meant to be used as a way to surface updated data. The dashboard could be updated frequently, and used to get a overview of some kpi's of the company. The dashboard could be further customized to meet the needs of different departments. \n"
   ]
  },
  {
   "cell_type": "markdown",
   "id": "cd53bb05",
   "metadata": {},
   "source": [
    "## Importing Necessary Libraries "
   ]
  },
  {
   "cell_type": "code",
   "execution_count": 2,
   "id": "80e62e17",
   "metadata": {},
   "outputs": [],
   "source": [
    "import pandas as pd \n",
    "import seaborn as sns\n",
    "import matplotlib.pyplot as plt\n",
    "import numpy as np \n",
    "import math# import libraries required\n",
    "import statsmodels.api as sm\n",
    "\n",
    "\n",
    "# import models\n",
    "from sklearn.tree import DecisionTreeClassifier\n",
    "from sklearn.linear_model import LogisticRegression\n",
    "from sklearn.ensemble import RandomForestClassifier\n",
    "from sklearn.model_selection import train_test_split\n",
    "\n",
    "# import evaluation functions\n",
    "from sklearn.metrics import classification_report\n",
    "from sklearn.metrics import confusion_matrix\n",
    "from sklearn.metrics import precision_score, recall_score, accuracy_score\n",
    "\n",
    "\n",
    "# scikitplot to directly plot our results\n",
    "import graphviz\n",
    "import scikitplot as skplt\n",
    "from mlxtend.plotting import plot_decision_regions\n",
    "from mlxtend.plotting import category_scatter"
   ]
  },
  {
   "cell_type": "markdown",
   "id": "48ea6ee6",
   "metadata": {},
   "source": [
    "## Bringing in Data from Google Big Query\n",
    "\n"
   ]
  },
  {
   "cell_type": "markdown",
   "id": "4f43af80",
   "metadata": {},
   "source": [
    "The company has been collecting data and storing it in a relational database in Google Big Query. The data is currently in two tables. I decided since the tables have the exact same column and row structure, I would use UNION ALL to combine them into one large dataset with SQL, before bringing it into python. The company has given us access to the key for the database, we will use that to import the data into Python."
   ]
  },
  {
   "cell_type": "code",
   "execution_count": 3,
   "id": "8fe5a800",
   "metadata": {},
   "outputs": [],
   "source": [
    "# Setting up the Google Environment \n",
    "import os\n",
    "\n",
    "os.environ['GOOGLE_APPLICATION_CREDENTIALS'] = '/Users/ch/Desktop/Capstone 2 /cole-howson-capstone-project-2-5947b94f4b0e.json'    "
   ]
  },
  {
   "cell_type": "code",
   "execution_count": 4,
   "id": "7fd295e7",
   "metadata": {},
   "outputs": [
    {
     "data": {
      "text/html": [
       "<div>\n",
       "<style scoped>\n",
       "    .dataframe tbody tr th:only-of-type {\n",
       "        vertical-align: middle;\n",
       "    }\n",
       "\n",
       "    .dataframe tbody tr th {\n",
       "        vertical-align: top;\n",
       "    }\n",
       "\n",
       "    .dataframe thead th {\n",
       "        text-align: right;\n",
       "    }\n",
       "</style>\n",
       "<table border=\"1\" class=\"dataframe\">\n",
       "  <thead>\n",
       "    <tr style=\"text-align: right;\">\n",
       "      <th></th>\n",
       "      <th>State</th>\n",
       "      <th>Account_length</th>\n",
       "      <th>Area_code</th>\n",
       "      <th>International_plan</th>\n",
       "      <th>Voice_mail_plan</th>\n",
       "      <th>Number_vmail_messages</th>\n",
       "      <th>Total_day_minutes</th>\n",
       "      <th>Total_day_calls</th>\n",
       "      <th>Total_day_charge</th>\n",
       "      <th>Total_eve_minutes</th>\n",
       "      <th>Total_eve_calls</th>\n",
       "      <th>Total_eve_charge</th>\n",
       "      <th>Total_night_minutes</th>\n",
       "      <th>Total_night_calls</th>\n",
       "      <th>Total_night_charge</th>\n",
       "      <th>Total_intl_minutes</th>\n",
       "      <th>Total_intl_calls</th>\n",
       "      <th>Total_intl_charge</th>\n",
       "      <th>Customer_service_calls</th>\n",
       "      <th>Churn</th>\n",
       "    </tr>\n",
       "  </thead>\n",
       "  <tbody>\n",
       "    <tr>\n",
       "      <th>0</th>\n",
       "      <td>MI</td>\n",
       "      <td>146</td>\n",
       "      <td>408</td>\n",
       "      <td>False</td>\n",
       "      <td>False</td>\n",
       "      <td>0</td>\n",
       "      <td>149.3</td>\n",
       "      <td>83</td>\n",
       "      <td>25.38</td>\n",
       "      <td>187.1</td>\n",
       "      <td>130</td>\n",
       "      <td>15.90</td>\n",
       "      <td>149.8</td>\n",
       "      <td>100</td>\n",
       "      <td>6.74</td>\n",
       "      <td>7.9</td>\n",
       "      <td>4</td>\n",
       "      <td>2.13</td>\n",
       "      <td>7</td>\n",
       "      <td>True</td>\n",
       "    </tr>\n",
       "    <tr>\n",
       "      <th>1</th>\n",
       "      <td>HI</td>\n",
       "      <td>99</td>\n",
       "      <td>408</td>\n",
       "      <td>False</td>\n",
       "      <td>False</td>\n",
       "      <td>0</td>\n",
       "      <td>135.7</td>\n",
       "      <td>107</td>\n",
       "      <td>23.07</td>\n",
       "      <td>208.4</td>\n",
       "      <td>103</td>\n",
       "      <td>17.71</td>\n",
       "      <td>209.0</td>\n",
       "      <td>95</td>\n",
       "      <td>9.40</td>\n",
       "      <td>8.8</td>\n",
       "      <td>3</td>\n",
       "      <td>2.38</td>\n",
       "      <td>7</td>\n",
       "      <td>True</td>\n",
       "    </tr>\n",
       "    <tr>\n",
       "      <th>2</th>\n",
       "      <td>NH</td>\n",
       "      <td>103</td>\n",
       "      <td>408</td>\n",
       "      <td>False</td>\n",
       "      <td>False</td>\n",
       "      <td>0</td>\n",
       "      <td>150.6</td>\n",
       "      <td>125</td>\n",
       "      <td>25.60</td>\n",
       "      <td>169.1</td>\n",
       "      <td>126</td>\n",
       "      <td>14.37</td>\n",
       "      <td>221.2</td>\n",
       "      <td>104</td>\n",
       "      <td>9.95</td>\n",
       "      <td>10.4</td>\n",
       "      <td>8</td>\n",
       "      <td>2.81</td>\n",
       "      <td>8</td>\n",
       "      <td>True</td>\n",
       "    </tr>\n",
       "    <tr>\n",
       "      <th>3</th>\n",
       "      <td>NJ</td>\n",
       "      <td>53</td>\n",
       "      <td>408</td>\n",
       "      <td>False</td>\n",
       "      <td>False</td>\n",
       "      <td>0</td>\n",
       "      <td>228.6</td>\n",
       "      <td>117</td>\n",
       "      <td>38.86</td>\n",
       "      <td>132.8</td>\n",
       "      <td>123</td>\n",
       "      <td>11.29</td>\n",
       "      <td>227.2</td>\n",
       "      <td>124</td>\n",
       "      <td>10.22</td>\n",
       "      <td>10.1</td>\n",
       "      <td>2</td>\n",
       "      <td>2.73</td>\n",
       "      <td>9</td>\n",
       "      <td>True</td>\n",
       "    </tr>\n",
       "    <tr>\n",
       "      <th>4</th>\n",
       "      <td>KY</td>\n",
       "      <td>122</td>\n",
       "      <td>408</td>\n",
       "      <td>False</td>\n",
       "      <td>True</td>\n",
       "      <td>27</td>\n",
       "      <td>253.7</td>\n",
       "      <td>84</td>\n",
       "      <td>43.13</td>\n",
       "      <td>229.2</td>\n",
       "      <td>109</td>\n",
       "      <td>19.48</td>\n",
       "      <td>190.5</td>\n",
       "      <td>123</td>\n",
       "      <td>8.57</td>\n",
       "      <td>9.2</td>\n",
       "      <td>5</td>\n",
       "      <td>2.48</td>\n",
       "      <td>7</td>\n",
       "      <td>False</td>\n",
       "    </tr>\n",
       "    <tr>\n",
       "      <th>5</th>\n",
       "      <td>GA</td>\n",
       "      <td>136</td>\n",
       "      <td>415</td>\n",
       "      <td>False</td>\n",
       "      <td>False</td>\n",
       "      <td>0</td>\n",
       "      <td>163.4</td>\n",
       "      <td>83</td>\n",
       "      <td>27.78</td>\n",
       "      <td>249.3</td>\n",
       "      <td>119</td>\n",
       "      <td>21.19</td>\n",
       "      <td>249.7</td>\n",
       "      <td>90</td>\n",
       "      <td>11.24</td>\n",
       "      <td>9.8</td>\n",
       "      <td>4</td>\n",
       "      <td>2.65</td>\n",
       "      <td>7</td>\n",
       "      <td>False</td>\n",
       "    </tr>\n",
       "    <tr>\n",
       "      <th>6</th>\n",
       "      <td>AR</td>\n",
       "      <td>115</td>\n",
       "      <td>415</td>\n",
       "      <td>False</td>\n",
       "      <td>False</td>\n",
       "      <td>0</td>\n",
       "      <td>139.3</td>\n",
       "      <td>89</td>\n",
       "      <td>23.68</td>\n",
       "      <td>192.3</td>\n",
       "      <td>95</td>\n",
       "      <td>16.35</td>\n",
       "      <td>151.0</td>\n",
       "      <td>75</td>\n",
       "      <td>6.80</td>\n",
       "      <td>9.3</td>\n",
       "      <td>3</td>\n",
       "      <td>2.51</td>\n",
       "      <td>7</td>\n",
       "      <td>True</td>\n",
       "    </tr>\n",
       "    <tr>\n",
       "      <th>7</th>\n",
       "      <td>AL</td>\n",
       "      <td>86</td>\n",
       "      <td>415</td>\n",
       "      <td>False</td>\n",
       "      <td>False</td>\n",
       "      <td>0</td>\n",
       "      <td>128.3</td>\n",
       "      <td>121</td>\n",
       "      <td>21.81</td>\n",
       "      <td>197.1</td>\n",
       "      <td>93</td>\n",
       "      <td>16.75</td>\n",
       "      <td>138.4</td>\n",
       "      <td>152</td>\n",
       "      <td>6.23</td>\n",
       "      <td>12.2</td>\n",
       "      <td>5</td>\n",
       "      <td>3.29</td>\n",
       "      <td>7</td>\n",
       "      <td>True</td>\n",
       "    </tr>\n",
       "    <tr>\n",
       "      <th>8</th>\n",
       "      <td>VT</td>\n",
       "      <td>99</td>\n",
       "      <td>415</td>\n",
       "      <td>False</td>\n",
       "      <td>False</td>\n",
       "      <td>0</td>\n",
       "      <td>115.5</td>\n",
       "      <td>75</td>\n",
       "      <td>19.64</td>\n",
       "      <td>218.1</td>\n",
       "      <td>111</td>\n",
       "      <td>18.54</td>\n",
       "      <td>254.9</td>\n",
       "      <td>98</td>\n",
       "      <td>11.47</td>\n",
       "      <td>11.5</td>\n",
       "      <td>7</td>\n",
       "      <td>3.11</td>\n",
       "      <td>7</td>\n",
       "      <td>True</td>\n",
       "    </tr>\n",
       "    <tr>\n",
       "      <th>9</th>\n",
       "      <td>OH</td>\n",
       "      <td>93</td>\n",
       "      <td>415</td>\n",
       "      <td>False</td>\n",
       "      <td>True</td>\n",
       "      <td>42</td>\n",
       "      <td>152.3</td>\n",
       "      <td>90</td>\n",
       "      <td>25.89</td>\n",
       "      <td>267.5</td>\n",
       "      <td>102</td>\n",
       "      <td>22.74</td>\n",
       "      <td>266.9</td>\n",
       "      <td>130</td>\n",
       "      <td>12.01</td>\n",
       "      <td>11.3</td>\n",
       "      <td>5</td>\n",
       "      <td>3.05</td>\n",
       "      <td>7</td>\n",
       "      <td>False</td>\n",
       "    </tr>\n",
       "  </tbody>\n",
       "</table>\n",
       "</div>"
      ],
      "text/plain": [
       "  State  Account_length  Area_code  International_plan  Voice_mail_plan  \\\n",
       "0    MI             146        408               False            False   \n",
       "1    HI              99        408               False            False   \n",
       "2    NH             103        408               False            False   \n",
       "3    NJ              53        408               False            False   \n",
       "4    KY             122        408               False             True   \n",
       "5    GA             136        415               False            False   \n",
       "6    AR             115        415               False            False   \n",
       "7    AL              86        415               False            False   \n",
       "8    VT              99        415               False            False   \n",
       "9    OH              93        415               False             True   \n",
       "\n",
       "   Number_vmail_messages  Total_day_minutes  Total_day_calls  \\\n",
       "0                      0              149.3               83   \n",
       "1                      0              135.7              107   \n",
       "2                      0              150.6              125   \n",
       "3                      0              228.6              117   \n",
       "4                     27              253.7               84   \n",
       "5                      0              163.4               83   \n",
       "6                      0              139.3               89   \n",
       "7                      0              128.3              121   \n",
       "8                      0              115.5               75   \n",
       "9                     42              152.3               90   \n",
       "\n",
       "   Total_day_charge  Total_eve_minutes  Total_eve_calls  Total_eve_charge  \\\n",
       "0             25.38              187.1              130             15.90   \n",
       "1             23.07              208.4              103             17.71   \n",
       "2             25.60              169.1              126             14.37   \n",
       "3             38.86              132.8              123             11.29   \n",
       "4             43.13              229.2              109             19.48   \n",
       "5             27.78              249.3              119             21.19   \n",
       "6             23.68              192.3               95             16.35   \n",
       "7             21.81              197.1               93             16.75   \n",
       "8             19.64              218.1              111             18.54   \n",
       "9             25.89              267.5              102             22.74   \n",
       "\n",
       "   Total_night_minutes  Total_night_calls  Total_night_charge  \\\n",
       "0                149.8                100                6.74   \n",
       "1                209.0                 95                9.40   \n",
       "2                221.2                104                9.95   \n",
       "3                227.2                124               10.22   \n",
       "4                190.5                123                8.57   \n",
       "5                249.7                 90               11.24   \n",
       "6                151.0                 75                6.80   \n",
       "7                138.4                152                6.23   \n",
       "8                254.9                 98               11.47   \n",
       "9                266.9                130               12.01   \n",
       "\n",
       "   Total_intl_minutes  Total_intl_calls  Total_intl_charge  \\\n",
       "0                 7.9                 4               2.13   \n",
       "1                 8.8                 3               2.38   \n",
       "2                10.4                 8               2.81   \n",
       "3                10.1                 2               2.73   \n",
       "4                 9.2                 5               2.48   \n",
       "5                 9.8                 4               2.65   \n",
       "6                 9.3                 3               2.51   \n",
       "7                12.2                 5               3.29   \n",
       "8                11.5                 7               3.11   \n",
       "9                11.3                 5               3.05   \n",
       "\n",
       "   Customer_service_calls  Churn  \n",
       "0                       7   True  \n",
       "1                       7   True  \n",
       "2                       8   True  \n",
       "3                       9   True  \n",
       "4                       7  False  \n",
       "5                       7  False  \n",
       "6                       7   True  \n",
       "7                       7   True  \n",
       "8                       7   True  \n",
       "9                       7  False  "
      ]
     },
     "execution_count": 4,
     "metadata": {},
     "output_type": "execute_result"
    }
   ],
   "source": [
    "# This code will make the call the BigQuery's API and return the table in a Panada's Data Frame \n",
    "import time\n",
    "from google.cloud import bigquery\n",
    "\n",
    "# Similar to how you would write a query in SQL. Using * to pull all the tables information\n",
    "query = \"select * from customer_churn.churn_100\"\n",
    "\n",
    "client = bigquery.Client()\n",
    "query_job = client.query(query)\n",
    "\n",
    "time.sleep(2) #give the query some time to finish\n",
    "result = query_job.result()\n",
    "\n",
    "# Assigning the Query Results to the varible df for recall later in the analysis \n",
    "df = result.to_dataframe()\n",
    "df.head(10)\n"
   ]
  },
  {
   "cell_type": "markdown",
   "id": "d940dade",
   "metadata": {},
   "source": [
    "## Question 1: What type of phone call is generating the most money for the company? Day, evening, night or, international.\n",
    "\n"
   ]
  },
  {
   "cell_type": "code",
   "execution_count": 6,
   "id": "40315e68",
   "metadata": {},
   "outputs": [
    {
     "data": {
      "text/plain": [
       "101864.17"
      ]
     },
     "execution_count": 6,
     "metadata": {},
     "output_type": "execute_result"
    }
   ],
   "source": [
    "# Total charges for all day time calls \n",
    "df['Total_day_charge'].sum()\n"
   ]
  },
  {
   "cell_type": "code",
   "execution_count": 7,
   "id": "279fdc1a",
   "metadata": {},
   "outputs": [
    {
     "data": {
      "text/plain": [
       "56939.44"
      ]
     },
     "execution_count": 7,
     "metadata": {},
     "output_type": "execute_result"
    }
   ],
   "source": [
    "# Total charges for all evening calls \n",
    "df['Total_eve_charge'].sum()"
   ]
  },
  {
   "cell_type": "code",
   "execution_count": 8,
   "id": "4ce5999d",
   "metadata": {},
   "outputs": [
    {
     "data": {
      "text/plain": [
       "30128.07"
      ]
     },
     "execution_count": 8,
     "metadata": {},
     "output_type": "execute_result"
    }
   ],
   "source": [
    "# Total Charges for all night calls \n",
    "df['Total_night_charge'].sum()"
   ]
  },
  {
   "cell_type": "code",
   "execution_count": 9,
   "id": "e75a6753",
   "metadata": {},
   "outputs": [
    {
     "data": {
      "text/plain": [
       "9214.35"
      ]
     },
     "execution_count": 9,
     "metadata": {},
     "output_type": "execute_result"
    }
   ],
   "source": [
    "# Total charges for all international calls \n",
    "round(df['Total_intl_charge'].sum(),2) # using round to get the decimal point to 2 places "
   ]
  },
  {
   "cell_type": "markdown",
   "id": "e44d5933",
   "metadata": {},
   "source": [
    "#### Creating a data frame with aggregated charges information(for visulization)"
   ]
  },
  {
   "cell_type": "code",
   "execution_count": 10,
   "id": "695af4cc",
   "metadata": {},
   "outputs": [],
   "source": [
    "#Creating two lists from the aggregated data above\n",
    "call_types = ['Day Time Call', 'Evening Call', 'Night Call', 'International Call']\n",
    "total_charges = [101864.17,56939.44,30128.07,9214.35]\n",
    "\n",
    "#Converting the lists to a Series\n",
    "call_series = pd.Series(call_types)\n",
    "charges_series = pd.Series(total_charges)\n",
    "\n",
    "#Converting the two series to a single dictionary\n",
    "frame = { 'Call Type': call_series, 'Total Charges': charges_series }\n",
    "\n",
    "#Converting the dictionary to a Pandas Data Frame\n",
    "charge_df = pd.DataFrame(frame)"
   ]
  },
  {
   "cell_type": "code",
   "execution_count": 11,
   "id": "d0c2f26c",
   "metadata": {},
   "outputs": [
    {
     "data": {
      "image/png": "[encoded data removed]",
      "text/plain": [
       "<Figure size 1080x576 with 1 Axes>"
      ]
     },
     "metadata": {
      "needs_background": "light"
     },
     "output_type": "display_data"
    }
   ],
   "source": [
    "#displaying charge_df as a bar plot with plt. and sns.\n",
    "plt.figure(figsize=(15,8))\n",
    "plt.grid()\n",
    "plt.title('Total Charges by Call Type (USD)')\n",
    "sns.barplot(data = charge_df, x = 'Call Type', y = \"Total Charges\", palette = 'Pastel2', edgecolor =\"black\");"
   ]
  },
  {
   "cell_type": "markdown",
   "id": "15adbe3c",
   "metadata": {},
   "source": [
    "**From graphing our results the majority of the company's income is generated by daytime calls. The weakest performing category is by far international calls.**\n"
   ]
  },
  {
   "cell_type": "markdown",
   "id": "87c9b60e",
   "metadata": {},
   "source": [
    "## Question 2: What is the average call lengths for each type of call and,  are customers using more minutes at a certain time of day?\n",
    "\n"
   ]
  },
  {
   "cell_type": "code",
   "execution_count": 12,
   "id": "1052140e",
   "metadata": {},
   "outputs": [
    {
     "data": {
      "text/html": [
       "<div>\n",
       "<style scoped>\n",
       "    .dataframe tbody tr th:only-of-type {\n",
       "        vertical-align: middle;\n",
       "    }\n",
       "\n",
       "    .dataframe tbody tr th {\n",
       "        vertical-align: top;\n",
       "    }\n",
       "\n",
       "    .dataframe thead th {\n",
       "        text-align: right;\n",
       "    }\n",
       "</style>\n",
       "<table border=\"1\" class=\"dataframe\">\n",
       "  <thead>\n",
       "    <tr style=\"text-align: right;\">\n",
       "      <th></th>\n",
       "      <th>State</th>\n",
       "      <th>Account_length</th>\n",
       "      <th>Area_code</th>\n",
       "      <th>International_plan</th>\n",
       "      <th>Voice_mail_plan</th>\n",
       "      <th>Number_vmail_messages</th>\n",
       "      <th>Total_day_minutes</th>\n",
       "      <th>Total_day_calls</th>\n",
       "      <th>Total_day_charge</th>\n",
       "      <th>Total_eve_minutes</th>\n",
       "      <th>Total_eve_calls</th>\n",
       "      <th>Total_eve_charge</th>\n",
       "      <th>Total_night_minutes</th>\n",
       "      <th>Total_night_calls</th>\n",
       "      <th>Total_night_charge</th>\n",
       "      <th>Total_intl_minutes</th>\n",
       "      <th>Total_intl_calls</th>\n",
       "      <th>Total_intl_charge</th>\n",
       "      <th>Customer_service_calls</th>\n",
       "      <th>Churn</th>\n",
       "    </tr>\n",
       "  </thead>\n",
       "  <tbody>\n",
       "    <tr>\n",
       "      <th>0</th>\n",
       "      <td>MI</td>\n",
       "      <td>146</td>\n",
       "      <td>408</td>\n",
       "      <td>False</td>\n",
       "      <td>False</td>\n",
       "      <td>0</td>\n",
       "      <td>149.3</td>\n",
       "      <td>83</td>\n",
       "      <td>25.38</td>\n",
       "      <td>187.1</td>\n",
       "      <td>130</td>\n",
       "      <td>15.90</td>\n",
       "      <td>149.8</td>\n",
       "      <td>100</td>\n",
       "      <td>6.74</td>\n",
       "      <td>7.9</td>\n",
       "      <td>4</td>\n",
       "      <td>2.13</td>\n",
       "      <td>7</td>\n",
       "      <td>True</td>\n",
       "    </tr>\n",
       "    <tr>\n",
       "      <th>1</th>\n",
       "      <td>HI</td>\n",
       "      <td>99</td>\n",
       "      <td>408</td>\n",
       "      <td>False</td>\n",
       "      <td>False</td>\n",
       "      <td>0</td>\n",
       "      <td>135.7</td>\n",
       "      <td>107</td>\n",
       "      <td>23.07</td>\n",
       "      <td>208.4</td>\n",
       "      <td>103</td>\n",
       "      <td>17.71</td>\n",
       "      <td>209.0</td>\n",
       "      <td>95</td>\n",
       "      <td>9.40</td>\n",
       "      <td>8.8</td>\n",
       "      <td>3</td>\n",
       "      <td>2.38</td>\n",
       "      <td>7</td>\n",
       "      <td>True</td>\n",
       "    </tr>\n",
       "    <tr>\n",
       "      <th>2</th>\n",
       "      <td>NH</td>\n",
       "      <td>103</td>\n",
       "      <td>408</td>\n",
       "      <td>False</td>\n",
       "      <td>False</td>\n",
       "      <td>0</td>\n",
       "      <td>150.6</td>\n",
       "      <td>125</td>\n",
       "      <td>25.60</td>\n",
       "      <td>169.1</td>\n",
       "      <td>126</td>\n",
       "      <td>14.37</td>\n",
       "      <td>221.2</td>\n",
       "      <td>104</td>\n",
       "      <td>9.95</td>\n",
       "      <td>10.4</td>\n",
       "      <td>8</td>\n",
       "      <td>2.81</td>\n",
       "      <td>8</td>\n",
       "      <td>True</td>\n",
       "    </tr>\n",
       "    <tr>\n",
       "      <th>3</th>\n",
       "      <td>NJ</td>\n",
       "      <td>53</td>\n",
       "      <td>408</td>\n",
       "      <td>False</td>\n",
       "      <td>False</td>\n",
       "      <td>0</td>\n",
       "      <td>228.6</td>\n",
       "      <td>117</td>\n",
       "      <td>38.86</td>\n",
       "      <td>132.8</td>\n",
       "      <td>123</td>\n",
       "      <td>11.29</td>\n",
       "      <td>227.2</td>\n",
       "      <td>124</td>\n",
       "      <td>10.22</td>\n",
       "      <td>10.1</td>\n",
       "      <td>2</td>\n",
       "      <td>2.73</td>\n",
       "      <td>9</td>\n",
       "      <td>True</td>\n",
       "    </tr>\n",
       "    <tr>\n",
       "      <th>4</th>\n",
       "      <td>KY</td>\n",
       "      <td>122</td>\n",
       "      <td>408</td>\n",
       "      <td>False</td>\n",
       "      <td>True</td>\n",
       "      <td>27</td>\n",
       "      <td>253.7</td>\n",
       "      <td>84</td>\n",
       "      <td>43.13</td>\n",
       "      <td>229.2</td>\n",
       "      <td>109</td>\n",
       "      <td>19.48</td>\n",
       "      <td>190.5</td>\n",
       "      <td>123</td>\n",
       "      <td>8.57</td>\n",
       "      <td>9.2</td>\n",
       "      <td>5</td>\n",
       "      <td>2.48</td>\n",
       "      <td>7</td>\n",
       "      <td>False</td>\n",
       "    </tr>\n",
       "  </tbody>\n",
       "</table>\n",
       "</div>"
      ],
      "text/plain": [
       "  State  Account_length  Area_code  International_plan  Voice_mail_plan  \\\n",
       "0    MI             146        408               False            False   \n",
       "1    HI              99        408               False            False   \n",
       "2    NH             103        408               False            False   \n",
       "3    NJ              53        408               False            False   \n",
       "4    KY             122        408               False             True   \n",
       "\n",
       "   Number_vmail_messages  Total_day_minutes  Total_day_calls  \\\n",
       "0                      0              149.3               83   \n",
       "1                      0              135.7              107   \n",
       "2                      0              150.6              125   \n",
       "3                      0              228.6              117   \n",
       "4                     27              253.7               84   \n",
       "\n",
       "   Total_day_charge  Total_eve_minutes  Total_eve_calls  Total_eve_charge  \\\n",
       "0             25.38              187.1              130             15.90   \n",
       "1             23.07              208.4              103             17.71   \n",
       "2             25.60              169.1              126             14.37   \n",
       "3             38.86              132.8              123             11.29   \n",
       "4             43.13              229.2              109             19.48   \n",
       "\n",
       "   Total_night_minutes  Total_night_calls  Total_night_charge  \\\n",
       "0                149.8                100                6.74   \n",
       "1                209.0                 95                9.40   \n",
       "2                221.2                104                9.95   \n",
       "3                227.2                124               10.22   \n",
       "4                190.5                123                8.57   \n",
       "\n",
       "   Total_intl_minutes  Total_intl_calls  Total_intl_charge  \\\n",
       "0                 7.9                 4               2.13   \n",
       "1                 8.8                 3               2.38   \n",
       "2                10.4                 8               2.81   \n",
       "3                10.1                 2               2.73   \n",
       "4                 9.2                 5               2.48   \n",
       "\n",
       "   Customer_service_calls  Churn  \n",
       "0                       7   True  \n",
       "1                       7   True  \n",
       "2                       8   True  \n",
       "3                       9   True  \n",
       "4                       7  False  "
      ]
     },
     "execution_count": 12,
     "metadata": {},
     "output_type": "execute_result"
    }
   ],
   "source": [
    "df.head()"
   ]
  },
  {
   "cell_type": "markdown",
   "id": "55835f94",
   "metadata": {},
   "source": [
    "**Creating Columns for average call lengths**"
   ]
  },
  {
   "cell_type": "code",
   "execution_count": 13,
   "id": "185d2c39",
   "metadata": {},
   "outputs": [],
   "source": [
    "df['Avg Day Call Length'] = round(df['Total_day_minutes'] / df['Total_day_calls'],2)"
   ]
  },
  {
   "cell_type": "code",
   "execution_count": 14,
   "id": "93e38966",
   "metadata": {},
   "outputs": [],
   "source": [
    "df['Avg Eve Call Length'] = round(df['Total_eve_minutes'] / df['Total_eve_calls'],2)"
   ]
  },
  {
   "cell_type": "code",
   "execution_count": 15,
   "id": "aa73702b",
   "metadata": {},
   "outputs": [],
   "source": [
    "df['Avg Night Call Length'] = round(df['Total_night_minutes'] / df['Total_night_calls'],2)"
   ]
  },
  {
   "cell_type": "code",
   "execution_count": 16,
   "id": "7bf5b20e",
   "metadata": {},
   "outputs": [],
   "source": [
    "df['Avg Intl Call Length'] = round(df['Total_intl_minutes'] / df['Total_intl_calls'],2)"
   ]
  },
  {
   "cell_type": "markdown",
   "id": "2010c097",
   "metadata": {},
   "source": [
    "**Calculating each new columns average below**"
   ]
  },
  {
   "cell_type": "code",
   "execution_count": 17,
   "id": "bf0f5f93",
   "metadata": {},
   "outputs": [
    {
     "data": {
      "text/plain": [
       "1.87"
      ]
     },
     "execution_count": 17,
     "metadata": {},
     "output_type": "execute_result"
    }
   ],
   "source": [
    "round(df['Avg Day Call Length'].mean(),2)"
   ]
  },
  {
   "cell_type": "code",
   "execution_count": 18,
   "id": "3eee923a",
   "metadata": {},
   "outputs": [
    {
     "data": {
      "text/plain": [
       "2.1"
      ]
     },
     "execution_count": 18,
     "metadata": {},
     "output_type": "execute_result"
    }
   ],
   "source": [
    "round(df['Avg Eve Call Length'].mean(),2)"
   ]
  },
  {
   "cell_type": "code",
   "execution_count": 19,
   "id": "84c43b98",
   "metadata": {},
   "outputs": [
    {
     "data": {
      "text/plain": [
       "2.09"
      ]
     },
     "execution_count": 19,
     "metadata": {},
     "output_type": "execute_result"
    }
   ],
   "source": [
    "round(df['Avg Night Call Length'].mean(),2)"
   ]
  },
  {
   "cell_type": "code",
   "execution_count": 20,
   "id": "782de3aa",
   "metadata": {},
   "outputs": [
    {
     "data": {
      "text/plain": [
       "3.11"
      ]
     },
     "execution_count": 20,
     "metadata": {},
     "output_type": "execute_result"
    }
   ],
   "source": [
    "round(df['Avg Intl Call Length'].mean(),2)"
   ]
  },
  {
   "cell_type": "code",
   "execution_count": 21,
   "id": "311e1af8",
   "metadata": {},
   "outputs": [],
   "source": [
    "#Creating two lists from the aggregated data above\n",
    "call_type = ['Day Time', 'Evening', 'Night ', 'International ']\n",
    "avg_length= [1.87, 2.1, 2.09, 3.11]\n",
    "\n",
    "#Converting the lists to a series\n",
    "call_type_series = pd.Series(call_type)\n",
    "avg_length_series = pd.Series(avg_length)\n",
    "\n",
    "#Converting the two series to a single dictionary\n",
    "frame3 = { 'Call Type': call_type_series, 'Avg. Length': avg_length_series }\n",
    "\n",
    "#Converting the dictionary to a Pandas Data Frame\n",
    "length_df = pd.DataFrame(frame3)"
   ]
  },
  {
   "cell_type": "code",
   "execution_count": 22,
   "id": "83e48e73",
   "metadata": {},
   "outputs": [
    {
     "data": {
      "image/png": "[encoded data removed]",
      "text/plain": [
       "<Figure size 1080x720 with 1 Axes>"
      ]
     },
     "metadata": {
      "needs_background": "light"
     },
     "output_type": "display_data"
    }
   ],
   "source": [
    "plt.figure(figsize=(15,10))\n",
    "plt.grid()\n",
    "plt.title('Avg. Call Length by Call Type')\n",
    "sns.barplot(data = length_df, x = 'Call Type', y = \"Avg. Length\", palette = 'Pastel2', edgecolor =\"black\");"
   ]
  },
  {
   "cell_type": "markdown",
   "id": "8ddfaf64",
   "metadata": {},
   "source": [
    "**Although international calls make up the lowest amount of total calls, they last on average longer than any other call category**"
   ]
  },
  {
   "cell_type": "markdown",
   "id": "61abc7d5",
   "metadata": {},
   "source": [
    "#### Summing the total minutes for each call type \n"
   ]
  },
  {
   "cell_type": "code",
   "execution_count": 23,
   "id": "347ddbba",
   "metadata": {},
   "outputs": [
    {
     "data": {
      "text/plain": [
       "599190.4"
      ]
     },
     "execution_count": 23,
     "metadata": {},
     "output_type": "execute_result"
    }
   ],
   "source": [
    "df['Total_day_minutes'].sum()"
   ]
  },
  {
   "cell_type": "code",
   "execution_count": 24,
   "id": "3e1ba8ba",
   "metadata": {},
   "outputs": [
    {
     "data": {
      "text/plain": [
       "669867.5"
      ]
     },
     "execution_count": 24,
     "metadata": {},
     "output_type": "execute_result"
    }
   ],
   "source": [
    "df['Total_eve_minutes'].sum()"
   ]
  },
  {
   "cell_type": "code",
   "execution_count": 25,
   "id": "137a9381",
   "metadata": {},
   "outputs": [
    {
     "data": {
      "text/plain": [
       "669506.5"
      ]
     },
     "execution_count": 25,
     "metadata": {},
     "output_type": "execute_result"
    }
   ],
   "source": [
    "df['Total_night_minutes'].sum()"
   ]
  },
  {
   "cell_type": "markdown",
   "id": "269e4511",
   "metadata": {},
   "source": [
    "#### Creating a data frame with aggregated minutes information"
   ]
  },
  {
   "cell_type": "code",
   "execution_count": 26,
   "id": "8e35e305",
   "metadata": {},
   "outputs": [],
   "source": [
    "time_of_day = ['Day Time Minutes', 'Evening Minutes', 'Night Minutes']\n",
    "total_minutes = [599190.40,669867.5,669506.5]\n",
    "\n",
    "time_of_day_series = pd.Series(time_of_day)\n",
    "total_minutes_series = pd.Series(total_minutes)\n",
    "\n",
    "frame2 = { 'time_of_day': time_of_day_series, 'total_minutes': total_minutes_series }\n",
    "\n",
    "minutes_df = pd.DataFrame(frame2)"
   ]
  },
  {
   "cell_type": "code",
   "execution_count": 27,
   "id": "4cebee6f",
   "metadata": {},
   "outputs": [
    {
     "data": {
      "image/png": "[encoded data removed]",
      "text/plain": [
       "<Figure size 1080x576 with 1 Axes>"
      ]
     },
     "metadata": {
      "needs_background": "light"
     },
     "output_type": "display_data"
    }
   ],
   "source": [
    "plt.figure(figsize=(15,8))\n",
    "plt.grid()\n",
    "plt.title('Total Minutes by Call Type')\n",
    "sns.barplot(data = minutes_df, x = 'time_of_day', y = \"total_minutes\", palette = 'Pastel2', edgecolor =\"black\");"
   ]
  },
  {
   "cell_type": "markdown",
   "id": "867305ec",
   "metadata": {},
   "source": [
    "**Looks like customers are making calls pretty consistantly across the day. There is just slight edge towards evening and night. With the slight increase into the evening and night, additional staffing might be required for the service centres.**"
   ]
  },
  {
   "cell_type": "markdown",
   "id": "6e61b4a0",
   "metadata": {},
   "source": [
    "## Question 3: Which states are using the most minutes overall"
   ]
  },
  {
   "cell_type": "code",
   "execution_count": 28,
   "id": "70e8f355",
   "metadata": {
    "scrolled": false
   },
   "outputs": [
    {
     "data": {
      "text/plain": [
       "array(['MI', 'HI', 'NH', 'NJ', 'KY', 'GA', 'AR', 'AL', 'VT', 'OH', 'MN',\n",
       "       'SC', 'KS', 'WI', 'TX', 'WA', 'FL', 'CA', 'DE', 'RI', 'MA', 'AZ',\n",
       "       'PA', 'CO', 'ME', 'MS', 'AK', 'DC', 'SD', 'CT', 'WV', 'NM', 'UT',\n",
       "       'VA', 'LA', 'OR', 'NC', 'MD', 'ID', 'TN', 'NV', 'OK', 'WY', 'MT',\n",
       "       'IL', 'MO', 'NY', 'NE', 'IN', 'ND', 'IA'], dtype=object)"
      ]
     },
     "execution_count": 28,
     "metadata": {},
     "output_type": "execute_result"
    }
   ],
   "source": [
    "# Making sure states are all included and labelled correctly \n",
    "df['State'].unique()"
   ]
  },
  {
   "cell_type": "markdown",
   "id": "1b82a20e",
   "metadata": {},
   "source": [
    "#### Creating function to find and replace state codes "
   ]
  },
  {
   "cell_type": "code",
   "execution_count": 29,
   "id": "bd2d42d5",
   "metadata": {},
   "outputs": [],
   "source": [
    "# This function will make the following conversions if the condition is True. I will then apply this function to the 'State' column\n",
    "def state_replace(name):\n",
    "    if name == 'MI':\n",
    "        return 'Michigan'\n",
    "    if name == 'HI':\n",
    "        return 'Hawaii'\n",
    "    if name == 'NH':\n",
    "        return 'New Hampshire'\n",
    "    if name == 'NJ':\n",
    "        return 'New Jersey'\n",
    "    if name == 'KY':\n",
    "        return 'Kentucky'\n",
    "    if name == 'GA':\n",
    "        return 'Georgia'\n",
    "    if name == 'AR':\n",
    "        return 'Arkansas'\n",
    "    if name == 'AL':\n",
    "        return 'Alabama'\n",
    "    if name == 'VT':\n",
    "        return 'Vermont'\n",
    "    if name == 'OH':\n",
    "        return 'Ohio'\n",
    "    if name == 'MN':\n",
    "        return 'Minnesota'\n",
    "    if name == 'SC':\n",
    "        return 'South Carolina'\n",
    "    if name == 'KS':\n",
    "        return 'Kansas'\n",
    "    if name == 'WI':\n",
    "        return 'Wisconsin'\n",
    "    if name == 'TX':\n",
    "        return 'Texas'\n",
    "    if name == 'WA':\n",
    "        return 'Washington'\n",
    "    if name == 'FL':\n",
    "        return 'Florida'\n",
    "    if name == 'CA':\n",
    "        return 'California'\n",
    "    if name == 'DE':\n",
    "        return 'Delaware'\n",
    "    if name == 'RI':\n",
    "        return 'Rhode Island'\n",
    "    if name == 'MA':\n",
    "        return 'Massachusetts'\n",
    "    if name == 'AZ':\n",
    "        return 'Arizona'\n",
    "    if name == 'PA':\n",
    "        return 'Pennsylvania'\n",
    "    if name == 'CO':\n",
    "        return 'Colorado'\n",
    "    if name == 'ME':\n",
    "        return 'Maine'\n",
    "    if name == 'MS':\n",
    "        return 'Mississippi'\n",
    "    if name == 'AK':\n",
    "        return 'Alaska'\n",
    "    if name == 'DC':\n",
    "        return 'District of Columbia'\n",
    "    if name == 'SD':\n",
    "        return 'South Dakota'\n",
    "    if name == 'CT':\n",
    "        return 'Connecticut'\n",
    "    if name == 'WV':\n",
    "        return 'West Virginia'\n",
    "    if name == 'NM':\n",
    "        return 'New Mexico'\n",
    "    if name == 'UT':\n",
    "        return 'Utah'\n",
    "    if name == 'VA':\n",
    "        return 'Virginia'\n",
    "    if name == 'LA':\n",
    "        return 'Louisiana'\n",
    "    if name == 'OR':\n",
    "        return 'Oregon'\n",
    "    if name == 'NC':\n",
    "        return 'North Carolina'\n",
    "    if name == 'MD':\n",
    "        return 'Maryland'\n",
    "    if name == 'ID':\n",
    "        return 'Idaho'\n",
    "    if name == 'TN':\n",
    "        return 'Tennessee'\n",
    "    if name == 'NV':\n",
    "        return 'Nevada'\n",
    "    if name == 'OK':\n",
    "        return 'Oklahoma'\n",
    "    if name == 'WY':\n",
    "        return 'Wyoming'\n",
    "    if name == 'MT':\n",
    "        return 'Montana'\n",
    "    if name == 'IL':\n",
    "        return 'Illinois'\n",
    "    if name == 'MO':\n",
    "        return 'Missouri'\n",
    "    if name == 'NY':\n",
    "        return 'New York'\n",
    "    if name == 'NE':\n",
    "        return 'Nebraska'\n",
    "    if name == 'IN':\n",
    "        return 'Indiana'\n",
    "    if name == 'ND':\n",
    "        return 'North Dakota'\n",
    "    if name == 'IA':\n",
    "        return 'Iowa'\n",
    "    else: \n",
    "        return 'null'"
   ]
  },
  {
   "cell_type": "markdown",
   "id": "779b3905",
   "metadata": {},
   "source": [
    "#### Applying function to the State column"
   ]
  },
  {
   "cell_type": "code",
   "execution_count": 30,
   "id": "6f5779f0",
   "metadata": {},
   "outputs": [],
   "source": [
    "df['State'] = df['State'].apply(state_replace)"
   ]
  },
  {
   "cell_type": "markdown",
   "id": "8b5a1bb6",
   "metadata": {},
   "source": [
    "#### Creating a new column totaling up each customers total minutes used "
   ]
  },
  {
   "cell_type": "code",
   "execution_count": 31,
   "id": "ed609af1",
   "metadata": {},
   "outputs": [],
   "source": [
    "df['All Minutes'] = df['Total_day_minutes'] + df['Total_eve_minutes'] + df['Total_night_minutes'] + df['Total_intl_minutes']     "
   ]
  },
  {
   "cell_type": "code",
   "execution_count": 32,
   "id": "123b9cdd",
   "metadata": {},
   "outputs": [
    {
     "data": {
      "text/html": [
       "<div>\n",
       "<style scoped>\n",
       "    .dataframe tbody tr th:only-of-type {\n",
       "        vertical-align: middle;\n",
       "    }\n",
       "\n",
       "    .dataframe tbody tr th {\n",
       "        vertical-align: top;\n",
       "    }\n",
       "\n",
       "    .dataframe thead th {\n",
       "        text-align: right;\n",
       "    }\n",
       "</style>\n",
       "<table border=\"1\" class=\"dataframe\">\n",
       "  <thead>\n",
       "    <tr style=\"text-align: right;\">\n",
       "      <th></th>\n",
       "      <th>State</th>\n",
       "      <th>Account_length</th>\n",
       "      <th>Area_code</th>\n",
       "      <th>International_plan</th>\n",
       "      <th>Voice_mail_plan</th>\n",
       "      <th>Number_vmail_messages</th>\n",
       "      <th>Total_day_minutes</th>\n",
       "      <th>Total_day_calls</th>\n",
       "      <th>Total_day_charge</th>\n",
       "      <th>Total_eve_minutes</th>\n",
       "      <th>Total_eve_calls</th>\n",
       "      <th>Total_eve_charge</th>\n",
       "      <th>Total_night_minutes</th>\n",
       "      <th>Total_night_calls</th>\n",
       "      <th>Total_night_charge</th>\n",
       "      <th>Total_intl_minutes</th>\n",
       "      <th>Total_intl_calls</th>\n",
       "      <th>Total_intl_charge</th>\n",
       "      <th>Customer_service_calls</th>\n",
       "      <th>Churn</th>\n",
       "      <th>Avg Day Call Length</th>\n",
       "      <th>Avg Eve Call Length</th>\n",
       "      <th>Avg Night Call Length</th>\n",
       "      <th>Avg Intl Call Length</th>\n",
       "      <th>All Minutes</th>\n",
       "    </tr>\n",
       "  </thead>\n",
       "  <tbody>\n",
       "    <tr>\n",
       "      <th>0</th>\n",
       "      <td>Michigan</td>\n",
       "      <td>146</td>\n",
       "      <td>408</td>\n",
       "      <td>False</td>\n",
       "      <td>False</td>\n",
       "      <td>0</td>\n",
       "      <td>149.3</td>\n",
       "      <td>83</td>\n",
       "      <td>25.38</td>\n",
       "      <td>187.1</td>\n",
       "      <td>130</td>\n",
       "      <td>15.90</td>\n",
       "      <td>149.8</td>\n",
       "      <td>100</td>\n",
       "      <td>6.74</td>\n",
       "      <td>7.9</td>\n",
       "      <td>4</td>\n",
       "      <td>2.13</td>\n",
       "      <td>7</td>\n",
       "      <td>True</td>\n",
       "      <td>1.80</td>\n",
       "      <td>1.44</td>\n",
       "      <td>1.50</td>\n",
       "      <td>1.98</td>\n",
       "      <td>494.1</td>\n",
       "    </tr>\n",
       "    <tr>\n",
       "      <th>1</th>\n",
       "      <td>Hawaii</td>\n",
       "      <td>99</td>\n",
       "      <td>408</td>\n",
       "      <td>False</td>\n",
       "      <td>False</td>\n",
       "      <td>0</td>\n",
       "      <td>135.7</td>\n",
       "      <td>107</td>\n",
       "      <td>23.07</td>\n",
       "      <td>208.4</td>\n",
       "      <td>103</td>\n",
       "      <td>17.71</td>\n",
       "      <td>209.0</td>\n",
       "      <td>95</td>\n",
       "      <td>9.40</td>\n",
       "      <td>8.8</td>\n",
       "      <td>3</td>\n",
       "      <td>2.38</td>\n",
       "      <td>7</td>\n",
       "      <td>True</td>\n",
       "      <td>1.27</td>\n",
       "      <td>2.02</td>\n",
       "      <td>2.20</td>\n",
       "      <td>2.93</td>\n",
       "      <td>561.9</td>\n",
       "    </tr>\n",
       "    <tr>\n",
       "      <th>2</th>\n",
       "      <td>New Hampshire</td>\n",
       "      <td>103</td>\n",
       "      <td>408</td>\n",
       "      <td>False</td>\n",
       "      <td>False</td>\n",
       "      <td>0</td>\n",
       "      <td>150.6</td>\n",
       "      <td>125</td>\n",
       "      <td>25.60</td>\n",
       "      <td>169.1</td>\n",
       "      <td>126</td>\n",
       "      <td>14.37</td>\n",
       "      <td>221.2</td>\n",
       "      <td>104</td>\n",
       "      <td>9.95</td>\n",
       "      <td>10.4</td>\n",
       "      <td>8</td>\n",
       "      <td>2.81</td>\n",
       "      <td>8</td>\n",
       "      <td>True</td>\n",
       "      <td>1.20</td>\n",
       "      <td>1.34</td>\n",
       "      <td>2.13</td>\n",
       "      <td>1.30</td>\n",
       "      <td>551.3</td>\n",
       "    </tr>\n",
       "    <tr>\n",
       "      <th>3</th>\n",
       "      <td>New Jersey</td>\n",
       "      <td>53</td>\n",
       "      <td>408</td>\n",
       "      <td>False</td>\n",
       "      <td>False</td>\n",
       "      <td>0</td>\n",
       "      <td>228.6</td>\n",
       "      <td>117</td>\n",
       "      <td>38.86</td>\n",
       "      <td>132.8</td>\n",
       "      <td>123</td>\n",
       "      <td>11.29</td>\n",
       "      <td>227.2</td>\n",
       "      <td>124</td>\n",
       "      <td>10.22</td>\n",
       "      <td>10.1</td>\n",
       "      <td>2</td>\n",
       "      <td>2.73</td>\n",
       "      <td>9</td>\n",
       "      <td>True</td>\n",
       "      <td>1.95</td>\n",
       "      <td>1.08</td>\n",
       "      <td>1.83</td>\n",
       "      <td>5.05</td>\n",
       "      <td>598.7</td>\n",
       "    </tr>\n",
       "    <tr>\n",
       "      <th>4</th>\n",
       "      <td>Kentucky</td>\n",
       "      <td>122</td>\n",
       "      <td>408</td>\n",
       "      <td>False</td>\n",
       "      <td>True</td>\n",
       "      <td>27</td>\n",
       "      <td>253.7</td>\n",
       "      <td>84</td>\n",
       "      <td>43.13</td>\n",
       "      <td>229.2</td>\n",
       "      <td>109</td>\n",
       "      <td>19.48</td>\n",
       "      <td>190.5</td>\n",
       "      <td>123</td>\n",
       "      <td>8.57</td>\n",
       "      <td>9.2</td>\n",
       "      <td>5</td>\n",
       "      <td>2.48</td>\n",
       "      <td>7</td>\n",
       "      <td>False</td>\n",
       "      <td>3.02</td>\n",
       "      <td>2.10</td>\n",
       "      <td>1.55</td>\n",
       "      <td>1.84</td>\n",
       "      <td>682.6</td>\n",
       "    </tr>\n",
       "  </tbody>\n",
       "</table>\n",
       "</div>"
      ],
      "text/plain": [
       "           State  Account_length  Area_code  International_plan  \\\n",
       "0       Michigan             146        408               False   \n",
       "1         Hawaii              99        408               False   \n",
       "2  New Hampshire             103        408               False   \n",
       "3     New Jersey              53        408               False   \n",
       "4       Kentucky             122        408               False   \n",
       "\n",
       "   Voice_mail_plan  Number_vmail_messages  Total_day_minutes  Total_day_calls  \\\n",
       "0            False                      0              149.3               83   \n",
       "1            False                      0              135.7              107   \n",
       "2            False                      0              150.6              125   \n",
       "3            False                      0              228.6              117   \n",
       "4             True                     27              253.7               84   \n",
       "\n",
       "   Total_day_charge  Total_eve_minutes  Total_eve_calls  Total_eve_charge  \\\n",
       "0             25.38              187.1              130             15.90   \n",
       "1             23.07              208.4              103             17.71   \n",
       "2             25.60              169.1              126             14.37   \n",
       "3             38.86              132.8              123             11.29   \n",
       "4             43.13              229.2              109             19.48   \n",
       "\n",
       "   Total_night_minutes  Total_night_calls  Total_night_charge  \\\n",
       "0                149.8                100                6.74   \n",
       "1                209.0                 95                9.40   \n",
       "2                221.2                104                9.95   \n",
       "3                227.2                124               10.22   \n",
       "4                190.5                123                8.57   \n",
       "\n",
       "   Total_intl_minutes  Total_intl_calls  Total_intl_charge  \\\n",
       "0                 7.9                 4               2.13   \n",
       "1                 8.8                 3               2.38   \n",
       "2                10.4                 8               2.81   \n",
       "3                10.1                 2               2.73   \n",
       "4                 9.2                 5               2.48   \n",
       "\n",
       "   Customer_service_calls  Churn  Avg Day Call Length  Avg Eve Call Length  \\\n",
       "0                       7   True                 1.80                 1.44   \n",
       "1                       7   True                 1.27                 2.02   \n",
       "2                       8   True                 1.20                 1.34   \n",
       "3                       9   True                 1.95                 1.08   \n",
       "4                       7  False                 3.02                 2.10   \n",
       "\n",
       "   Avg Night Call Length  Avg Intl Call Length  All Minutes  \n",
       "0                   1.50                  1.98        494.1  \n",
       "1                   2.20                  2.93        561.9  \n",
       "2                   2.13                  1.30        551.3  \n",
       "3                   1.83                  5.05        598.7  \n",
       "4                   1.55                  1.84        682.6  "
      ]
     },
     "execution_count": 32,
     "metadata": {},
     "output_type": "execute_result"
    }
   ],
   "source": [
    "pd.set_option('display.max_columns', None)\n",
    "df.head()"
   ]
  },
  {
   "cell_type": "markdown",
   "id": "4ff296b3",
   "metadata": {},
   "source": [
    "**Before diving into State level analysis, I would like to see how the customers are distributed across the states.**"
   ]
  },
  {
   "cell_type": "code",
   "execution_count": 33,
   "id": "7b671a95",
   "metadata": {},
   "outputs": [
    {
     "data": {
      "text/plain": [
       "State\n",
       "West Virginia           106\n",
       "Minnesota                84\n",
       "New York                 83\n",
       "Alabama                  80\n",
       "Wisconsin                78\n",
       "Oregon                   78\n",
       "Ohio                     78\n",
       "Virginia                 77\n",
       "Wyoming                  77\n",
       "Connecticut              74\n",
       "Idaho                    73\n",
       "Vermont                  73\n",
       "Michigan                 73\n",
       "Texas                    72\n",
       "Utah                     72\n",
       "Indiana                  71\n",
       "Maryland                 70\n",
       "Kansas                   70\n",
       "Montana                  68\n",
       "New Jersey               68\n",
       "North Carolina           68\n",
       "Nevada                   66\n",
       "Colorado                 66\n",
       "Washington               66\n",
       "Rhode Island             65\n",
       "Massachusetts            65\n",
       "Mississippi              65\n",
       "Arizona                  64\n",
       "Florida                  63\n",
       "Missouri                 63\n",
       "Maine                    62\n",
       "New Mexico               62\n",
       "North Dakota             62\n",
       "Delaware                 61\n",
       "Nebraska                 61\n",
       "Oklahoma                 61\n",
       "South Dakota             60\n",
       "South Carolina           60\n",
       "Kentucky                 59\n",
       "Illinois                 58\n",
       "New Hampshire            56\n",
       "Arkansas                 55\n",
       "District of Columbia     54\n",
       "Georgia                  54\n",
       "Tennessee                53\n",
       "Hawaii                   53\n",
       "Alaska                   52\n",
       "Louisiana                51\n",
       "Pennsylvania             45\n",
       "Iowa                     44\n",
       "California               34\n",
       "dtype: int64"
      ]
     },
     "execution_count": 33,
     "metadata": {},
     "output_type": "execute_result"
    }
   ],
   "source": [
    "#counting the number of customers per state\n",
    "df.groupby('State').size().sort_values(ascending = False)"
   ]
  },
  {
   "cell_type": "code",
   "execution_count": 34,
   "id": "f10b301b",
   "metadata": {},
   "outputs": [
    {
     "data": {
      "text/plain": [
       "State\n",
       "West Virginia           60789.7\n",
       "Minnesota               50636.6\n",
       "New York                48585.1\n",
       "Ohio                    47151.3\n",
       "Virginia                46587.4\n",
       "Alabama                 46324.0\n",
       "Oregon                  45862.2\n",
       "Wyoming                 45858.1\n",
       "Wisconsin               45674.0\n",
       "Vermont                 44131.5\n",
       "Connecticut             44031.2\n",
       "Indiana                 43972.0\n",
       "Michigan                43216.4\n",
       "Idaho                   42801.9\n",
       "Kansas                  42621.9\n",
       "Texas                   42274.9\n",
       "Maryland                42196.4\n",
       "Utah                    41735.8\n",
       "New Jersey              41596.1\n",
       "North Carolina          40445.4\n",
       "Montana                 39668.4\n",
       "Massachusetts           39561.9\n",
       "Nevada                  39469.6\n",
       "Washington              39097.6\n",
       "Colorado                38634.2\n",
       "Rhode Island            38510.3\n",
       "Mississippi             38325.3\n",
       "Florida                 37548.3\n",
       "North Dakota            37483.2\n",
       "Missouri                37164.0\n",
       "Maine                   36865.5\n",
       "New Mexico              36837.8\n",
       "Nebraska                36444.7\n",
       "Delaware                36418.0\n",
       "South Dakota            36227.2\n",
       "Arizona                 36095.3\n",
       "Oklahoma                35401.1\n",
       "South Carolina          34736.9\n",
       "Kentucky                34161.5\n",
       "Illinois                33543.1\n",
       "New Hampshire           33276.5\n",
       "Arkansas                32614.5\n",
       "Tennessee               32170.7\n",
       "Georgia                 32032.2\n",
       "District of Columbia    31568.7\n",
       "Hawaii                  30797.0\n",
       "Louisiana               29933.1\n",
       "Alaska                  29380.7\n",
       "Pennsylvania            26387.3\n",
       "Iowa                    25747.8\n",
       "California              20091.0\n",
       "Name: All Minutes, dtype: float64"
      ]
     },
     "execution_count": 34,
     "metadata": {},
     "output_type": "execute_result"
    }
   ],
   "source": [
    "df.groupby('State')['All Minutes'].sum().sort_values(ascending = False)"
   ]
  },
  {
   "cell_type": "markdown",
   "id": "1fdec9fe",
   "metadata": {},
   "source": [
    "**The usage of minutes seems to be more or less evenly spread across the country. Looks like the top users are West Virgina, Minnesota and New York as are the majority of customers.**"
   ]
  },
  {
   "cell_type": "code",
   "execution_count": 35,
   "id": "364a9aee",
   "metadata": {},
   "outputs": [
    {
     "name": "stdout",
     "output_type": "stream",
     "text": [
      "State\n",
      "Indiana                 619.0\n",
      "New Jersey              612.0\n",
      "Kansas                  609.0\n",
      "Massachusetts           609.0\n",
      "Tennessee               607.0\n",
      "Virginia                605.0\n",
      "North Dakota            605.0\n",
      "Vermont                 605.0\n",
      "Ohio                    605.0\n",
      "South Dakota            604.0\n",
      "Minnesota               603.0\n",
      "Maryland                603.0\n",
      "Nevada                  598.0\n",
      "Nebraska                597.0\n",
      "Delaware                597.0\n",
      "Florida                 596.0\n",
      "Wyoming                 596.0\n",
      "Connecticut             595.0\n",
      "North Carolina          595.0\n",
      "Maine                   595.0\n",
      "New Hampshire           594.0\n",
      "New Mexico              594.0\n",
      "Georgia                 593.0\n",
      "Arkansas                593.0\n",
      "Rhode Island            592.0\n",
      "Washington              592.0\n",
      "Michigan                592.0\n",
      "California              591.0\n",
      "Missouri                590.0\n",
      "Mississippi             590.0\n",
      "Oregon                  588.0\n",
      "Texas                   587.0\n",
      "Louisiana               587.0\n",
      "Pennsylvania            586.0\n",
      "Idaho                   586.0\n",
      "Wisconsin               586.0\n",
      "Colorado                585.0\n",
      "New York                585.0\n",
      "Iowa                    585.0\n",
      "District of Columbia    585.0\n",
      "Montana                 583.0\n",
      "Hawaii                  581.0\n",
      "Oklahoma                580.0\n",
      "Utah                    580.0\n",
      "Alabama                 579.0\n",
      "Kentucky                579.0\n",
      "South Carolina          579.0\n",
      "Illinois                578.0\n",
      "West Virginia           573.0\n",
      "Alaska                  565.0\n",
      "Arizona                 564.0\n",
      "dtype: float64\n"
     ]
    }
   ],
   "source": [
    "# On the fly code to calculate the average amount of minutes used by customers in each state\n",
    "# I don't want to use this in my model so I am just saving it to a variable \n",
    "minutes_per_customer = df.groupby('State')['All Minutes'].sum() / df.groupby('State').size()\n",
    "print(round(minutes_per_customer.sort_values(ascending = False)))"
   ]
  },
  {
   "cell_type": "code",
   "execution_count": 36,
   "id": "7f19a1e8",
   "metadata": {},
   "outputs": [],
   "source": [
    "#Creating Total Spend Column \n",
    "df['total_spend'] = df['Total_day_charge'] + df['Total_eve_charge'] + df['Total_night_charge'] + df['Total_intl_charge']"
   ]
  },
  {
   "cell_type": "code",
   "execution_count": 38,
   "id": "acb29823",
   "metadata": {
    "scrolled": true
   },
   "outputs": [
    {
     "data": {
      "text/plain": [
       "State\n",
       "West Virginia           6079.48\n",
       "Minnesota               5071.19\n",
       "New York                4843.77\n",
       "Alabama                 4755.43\n",
       "Ohio                    4733.69\n",
       "Virginia                4615.30\n",
       "Wyoming                 4611.81\n",
       "Oregon                  4592.00\n",
       "Wisconsin               4589.03\n",
       "Indiana                 4457.93\n",
       "Vermont                 4413.51\n",
       "Michigan                4374.32\n",
       "Connecticut             4372.22\n",
       "Maryland                4345.30\n",
       "Kansas                  4332.04\n",
       "Idaho                   4296.81\n",
       "Texas                   4282.55\n",
       "Utah                    4258.63\n",
       "New Jersey              4244.56\n",
       "North Carolina          4097.17\n",
       "Montana                 3974.84\n",
       "Massachusetts           3946.19\n",
       "Washington              3917.56\n",
       "Nevada                  3916.43\n",
       "Colorado                3905.78\n",
       "Mississippi             3846.68\n",
       "North Dakota            3788.76\n",
       "Rhode Island            3787.24\n",
       "Florida                 3775.89\n",
       "Maine                   3731.58\n",
       "South Dakota            3675.33\n",
       "Missouri                3662.91\n",
       "New Mexico              3656.85\n",
       "Nebraska                3632.22\n",
       "Arizona                 3630.93\n",
       "Delaware                3619.46\n",
       "Oklahoma                3579.67\n",
       "South Carolina          3443.28\n",
       "Kentucky                3423.34\n",
       "Illinois                3359.53\n",
       "New Hampshire           3310.22\n",
       "Georgia                 3256.26\n",
       "Arkansas                3249.19\n",
       "Tennessee               3181.15\n",
       "District of Columbia    3130.37\n",
       "Hawaii                  3077.15\n",
       "Louisiana               2994.87\n",
       "Alaska                  2982.21\n",
       "Pennsylvania            2698.29\n",
       "Iowa                    2594.69\n",
       "California              2030.42\n",
       "Name: total_spend, dtype: float64"
      ]
     },
     "execution_count": 38,
     "metadata": {},
     "output_type": "execute_result"
    }
   ],
   "source": [
    "# Total Amount Spent By State\n",
    "df.groupby('State')['total_spend'].sum().sort_values(ascending = False)"
   ]
  },
  {
   "cell_type": "markdown",
   "id": "eecc4d43",
   "metadata": {},
   "source": [
    "**The amount spent is strongly corellated to minutes used. This is to be expected.**"
   ]
  },
  {
   "cell_type": "markdown",
   "id": "db82700b",
   "metadata": {},
   "source": [
    "## Question 4: Which states are generating the most service calls"
   ]
  },
  {
   "cell_type": "code",
   "execution_count": 122,
   "id": "c390b603",
   "metadata": {},
   "outputs": [
    {
     "data": {
      "text/html": [
       "<div>\n",
       "<style scoped>\n",
       "    .dataframe tbody tr th:only-of-type {\n",
       "        vertical-align: middle;\n",
       "    }\n",
       "\n",
       "    .dataframe tbody tr th {\n",
       "        vertical-align: top;\n",
       "    }\n",
       "\n",
       "    .dataframe thead th {\n",
       "        text-align: right;\n",
       "    }\n",
       "</style>\n",
       "<table border=\"1\" class=\"dataframe\">\n",
       "  <thead>\n",
       "    <tr style=\"text-align: right;\">\n",
       "      <th></th>\n",
       "      <th>Customer_service_calls</th>\n",
       "    </tr>\n",
       "    <tr>\n",
       "      <th>State</th>\n",
       "      <th></th>\n",
       "    </tr>\n",
       "  </thead>\n",
       "  <tbody>\n",
       "    <tr>\n",
       "      <th>West Virginia</th>\n",
       "      <td>159</td>\n",
       "    </tr>\n",
       "    <tr>\n",
       "      <th>New York</th>\n",
       "      <td>142</td>\n",
       "    </tr>\n",
       "    <tr>\n",
       "      <th>Oregon</th>\n",
       "      <td>135</td>\n",
       "    </tr>\n",
       "    <tr>\n",
       "      <th>Minnesota</th>\n",
       "      <td>130</td>\n",
       "    </tr>\n",
       "    <tr>\n",
       "      <th>Vermont</th>\n",
       "      <td>127</td>\n",
       "    </tr>\n",
       "    <tr>\n",
       "      <th>Alabama</th>\n",
       "      <td>125</td>\n",
       "    </tr>\n",
       "    <tr>\n",
       "      <th>Virginia</th>\n",
       "      <td>123</td>\n",
       "    </tr>\n",
       "    <tr>\n",
       "      <th>Idaho</th>\n",
       "      <td>122</td>\n",
       "    </tr>\n",
       "    <tr>\n",
       "      <th>Indiana</th>\n",
       "      <td>120</td>\n",
       "    </tr>\n",
       "    <tr>\n",
       "      <th>Michigan</th>\n",
       "      <td>119</td>\n",
       "    </tr>\n",
       "    <tr>\n",
       "      <th>Maryland</th>\n",
       "      <td>119</td>\n",
       "    </tr>\n",
       "    <tr>\n",
       "      <th>Colorado</th>\n",
       "      <td>118</td>\n",
       "    </tr>\n",
       "    <tr>\n",
       "      <th>Texas</th>\n",
       "      <td>116</td>\n",
       "    </tr>\n",
       "    <tr>\n",
       "      <th>New Jersey</th>\n",
       "      <td>114</td>\n",
       "    </tr>\n",
       "    <tr>\n",
       "      <th>Connecticut</th>\n",
       "      <td>112</td>\n",
       "    </tr>\n",
       "    <tr>\n",
       "      <th>Montana</th>\n",
       "      <td>111</td>\n",
       "    </tr>\n",
       "    <tr>\n",
       "      <th>Wisconsin</th>\n",
       "      <td>111</td>\n",
       "    </tr>\n",
       "    <tr>\n",
       "      <th>Wyoming</th>\n",
       "      <td>111</td>\n",
       "    </tr>\n",
       "    <tr>\n",
       "      <th>Mississippi</th>\n",
       "      <td>110</td>\n",
       "    </tr>\n",
       "    <tr>\n",
       "      <th>Oklahoma</th>\n",
       "      <td>109</td>\n",
       "    </tr>\n",
       "    <tr>\n",
       "      <th>Arkansas</th>\n",
       "      <td>109</td>\n",
       "    </tr>\n",
       "    <tr>\n",
       "      <th>Maine</th>\n",
       "      <td>108</td>\n",
       "    </tr>\n",
       "    <tr>\n",
       "      <th>Ohio</th>\n",
       "      <td>106</td>\n",
       "    </tr>\n",
       "    <tr>\n",
       "      <th>North Carolina</th>\n",
       "      <td>106</td>\n",
       "    </tr>\n",
       "    <tr>\n",
       "      <th>Nevada</th>\n",
       "      <td>105</td>\n",
       "    </tr>\n",
       "    <tr>\n",
       "      <th>Georgia</th>\n",
       "      <td>104</td>\n",
       "    </tr>\n",
       "    <tr>\n",
       "      <th>Arizona</th>\n",
       "      <td>102</td>\n",
       "    </tr>\n",
       "    <tr>\n",
       "      <th>Kentucky</th>\n",
       "      <td>101</td>\n",
       "    </tr>\n",
       "    <tr>\n",
       "      <th>Washington</th>\n",
       "      <td>101</td>\n",
       "    </tr>\n",
       "    <tr>\n",
       "      <th>New Mexico</th>\n",
       "      <td>99</td>\n",
       "    </tr>\n",
       "    <tr>\n",
       "      <th>Utah</th>\n",
       "      <td>99</td>\n",
       "    </tr>\n",
       "    <tr>\n",
       "      <th>Florida</th>\n",
       "      <td>99</td>\n",
       "    </tr>\n",
       "    <tr>\n",
       "      <th>Delaware</th>\n",
       "      <td>99</td>\n",
       "    </tr>\n",
       "    <tr>\n",
       "      <th>Missouri</th>\n",
       "      <td>98</td>\n",
       "    </tr>\n",
       "    <tr>\n",
       "      <th>Kansas</th>\n",
       "      <td>97</td>\n",
       "    </tr>\n",
       "    <tr>\n",
       "      <th>South Carolina</th>\n",
       "      <td>95</td>\n",
       "    </tr>\n",
       "    <tr>\n",
       "      <th>Rhode Island</th>\n",
       "      <td>92</td>\n",
       "    </tr>\n",
       "    <tr>\n",
       "      <th>North Dakota</th>\n",
       "      <td>90</td>\n",
       "    </tr>\n",
       "    <tr>\n",
       "      <th>Nebraska</th>\n",
       "      <td>89</td>\n",
       "    </tr>\n",
       "    <tr>\n",
       "      <th>New Hampshire</th>\n",
       "      <td>85</td>\n",
       "    </tr>\n",
       "    <tr>\n",
       "      <th>South Dakota</th>\n",
       "      <td>84</td>\n",
       "    </tr>\n",
       "    <tr>\n",
       "      <th>Hawaii</th>\n",
       "      <td>82</td>\n",
       "    </tr>\n",
       "    <tr>\n",
       "      <th>Alaska</th>\n",
       "      <td>81</td>\n",
       "    </tr>\n",
       "    <tr>\n",
       "      <th>Louisiana</th>\n",
       "      <td>80</td>\n",
       "    </tr>\n",
       "    <tr>\n",
       "      <th>Massachusetts</th>\n",
       "      <td>79</td>\n",
       "    </tr>\n",
       "    <tr>\n",
       "      <th>District of Columbia</th>\n",
       "      <td>73</td>\n",
       "    </tr>\n",
       "    <tr>\n",
       "      <th>Tennessee</th>\n",
       "      <td>70</td>\n",
       "    </tr>\n",
       "    <tr>\n",
       "      <th>Iowa</th>\n",
       "      <td>70</td>\n",
       "    </tr>\n",
       "    <tr>\n",
       "      <th>Illinois</th>\n",
       "      <td>66</td>\n",
       "    </tr>\n",
       "    <tr>\n",
       "      <th>Pennsylvania</th>\n",
       "      <td>57</td>\n",
       "    </tr>\n",
       "    <tr>\n",
       "      <th>California</th>\n",
       "      <td>50</td>\n",
       "    </tr>\n",
       "  </tbody>\n",
       "</table>\n",
       "</div>"
      ],
      "text/plain": [
       "                      Customer_service_calls\n",
       "State                                       \n",
       "West Virginia                            159\n",
       "New York                                 142\n",
       "Oregon                                   135\n",
       "Minnesota                                130\n",
       "Vermont                                  127\n",
       "Alabama                                  125\n",
       "Virginia                                 123\n",
       "Idaho                                    122\n",
       "Indiana                                  120\n",
       "Michigan                                 119\n",
       "Maryland                                 119\n",
       "Colorado                                 118\n",
       "Texas                                    116\n",
       "New Jersey                               114\n",
       "Connecticut                              112\n",
       "Montana                                  111\n",
       "Wisconsin                                111\n",
       "Wyoming                                  111\n",
       "Mississippi                              110\n",
       "Oklahoma                                 109\n",
       "Arkansas                                 109\n",
       "Maine                                    108\n",
       "Ohio                                     106\n",
       "North Carolina                           106\n",
       "Nevada                                   105\n",
       "Georgia                                  104\n",
       "Arizona                                  102\n",
       "Kentucky                                 101\n",
       "Washington                               101\n",
       "New Mexico                                99\n",
       "Utah                                      99\n",
       "Florida                                   99\n",
       "Delaware                                  99\n",
       "Missouri                                  98\n",
       "Kansas                                    97\n",
       "South Carolina                            95\n",
       "Rhode Island                              92\n",
       "North Dakota                              90\n",
       "Nebraska                                  89\n",
       "New Hampshire                             85\n",
       "South Dakota                              84\n",
       "Hawaii                                    82\n",
       "Alaska                                    81\n",
       "Louisiana                                 80\n",
       "Massachusetts                             79\n",
       "District of Columbia                      73\n",
       "Tennessee                                 70\n",
       "Iowa                                      70\n",
       "Illinois                                  66\n",
       "Pennsylvania                              57\n",
       "California                                50"
      ]
     },
     "execution_count": 122,
     "metadata": {},
     "output_type": "execute_result"
    }
   ],
   "source": [
    "df.groupby('State')['Customer_service_calls'].sum().sort_values(ascending = False).to_frame()\n"
   ]
  },
  {
   "cell_type": "markdown",
   "id": "7ac47a77",
   "metadata": {},
   "source": [
    "**Interesting to see some of the top ten states for service calls are not in the top ten for minutes used. Perhaps might be worth investigating what is going on in: Michigan, Idaho, Indiana and Vermont.** "
   ]
  },
  {
   "cell_type": "markdown",
   "id": "ea21d496",
   "metadata": {},
   "source": [
    "## Question 5: Are service calls correlated to churn?"
   ]
  },
  {
   "cell_type": "code",
   "execution_count": 123,
   "id": "9ab2540d",
   "metadata": {
    "scrolled": false
   },
   "outputs": [
    {
     "data": {
      "image/png": "[encoded data removed]",
      "text/plain": [
       "<Figure size 2160x1440 with 2 Axes>"
      ]
     },
     "metadata": {
      "needs_background": "light"
     },
     "output_type": "display_data"
    }
   ],
   "source": [
    "# making use of a heat map to better display findings from correlation matrix\n",
    "correlationanalysis = df.corr()\n",
    "plt.figure(figsize=(30,20))\n",
    "sns.heatmap(correlationanalysis,annot=True );"
   ]
  },
  {
   "cell_type": "markdown",
   "id": "2779216f",
   "metadata": {},
   "source": [
    "**Overall the correlation between independent variables is quite weak. There are a few strong correlations that I expected to see. These would be the correlation between the charges for a call and the number of minutes used. As well as the number of voicemails and having a voicemail plan.** \n",
    "\n",
    "**The correlations I am interested in are regarding customer churn. International plan, total_day minutes, customer service calls have a stronger correlation to churn than the rest of the variables and are worth exploring. Let's see if the models feel the same way.**\n"
   ]
  },
  {
   "cell_type": "markdown",
   "id": "a2b4d7c1",
   "metadata": {},
   "source": [
    "## Modeling"
   ]
  },
  {
   "cell_type": "markdown",
   "id": "7cad446a",
   "metadata": {},
   "source": [
    "#### Additional Data Cleaning and Restructuring "
   ]
  },
  {
   "cell_type": "markdown",
   "id": "f2f6b825",
   "metadata": {},
   "source": [
    "##### One hot encoding State Values "
   ]
  },
  {
   "cell_type": "code",
   "execution_count": 124,
   "id": "fb4922d5",
   "metadata": {},
   "outputs": [],
   "source": [
    "state_encoded = pd.get_dummies(df['State'])\n",
    "df2 = pd.concat([df, state_encoded], axis=1)"
   ]
  },
  {
   "cell_type": "code",
   "execution_count": 125,
   "id": "666e4baf",
   "metadata": {},
   "outputs": [],
   "source": [
    "#Removing the 'State' column since it won't be of use in the models \n",
    "df2.drop(columns = 'State', inplace = True)"
   ]
  },
  {
   "cell_type": "markdown",
   "id": "ad53a952",
   "metadata": {},
   "source": [
    "##### Changing Bool Values to Numeric "
   ]
  },
  {
   "cell_type": "code",
   "execution_count": 126,
   "id": "90c00c47",
   "metadata": {},
   "outputs": [],
   "source": [
    "def bool_switch(x):\n",
    "    if x == False:\n",
    "        return 0\n",
    "    else:\n",
    "        return 1"
   ]
  },
  {
   "cell_type": "code",
   "execution_count": 127,
   "id": "b4323e43",
   "metadata": {},
   "outputs": [],
   "source": [
    "#Using .apply to convert the bool values of International Plan column to numeric \n",
    "df2['International_plan'] = df2['International_plan'].apply(bool_switch)"
   ]
  },
  {
   "cell_type": "code",
   "execution_count": 128,
   "id": "4e37ff20",
   "metadata": {},
   "outputs": [],
   "source": [
    "#Using .apply to convert the bool values of Voice Mail Plan column to numeric \n",
    "df2['Voice_mail_plan'] = df2['Voice_mail_plan'].apply(bool_switch)"
   ]
  },
  {
   "cell_type": "markdown",
   "id": "417cbfef",
   "metadata": {},
   "source": [
    "## Logistic Regression Model "
   ]
  },
  {
   "cell_type": "markdown",
   "id": "34d44743",
   "metadata": {},
   "source": [
    "#### Setting up for Modeling: Declaring Varibles and Label"
   ]
  },
  {
   "cell_type": "code",
   "execution_count": 129,
   "id": "298045b7",
   "metadata": {},
   "outputs": [],
   "source": [
    "# Removing NaN values that could be flagged by out model \n",
    "df2 = df2.dropna()"
   ]
  },
  {
   "cell_type": "code",
   "execution_count": 130,
   "id": "86c60d21",
   "metadata": {},
   "outputs": [],
   "source": [
    "# Delclaring the Independent Varibles\n",
    "X = df2.drop(labels = 'Churn', axis = 1)"
   ]
  },
  {
   "cell_type": "code",
   "execution_count": 131,
   "id": "283f6b4d",
   "metadata": {},
   "outputs": [],
   "source": [
    "# Declaring the Label I will be using the model to predict for\n",
    "y = df2['Churn']"
   ]
  },
  {
   "cell_type": "code",
   "execution_count": 132,
   "id": "a1ad24ee",
   "metadata": {},
   "outputs": [],
   "source": [
    "# Spliting the data into two sets, one for training, one for testing\n",
    "X_train, X_test, y_train, y_test = train_test_split(X, y, test_size = 0.2, random_state = 133)"
   ]
  },
  {
   "cell_type": "code",
   "execution_count": 133,
   "id": "88c99a3d",
   "metadata": {},
   "outputs": [
    {
     "name": "stdout",
     "output_type": "stream",
     "text": [
      "Fitting 5 folds for each of 200 candidates, totalling 1000 fits\n"
     ]
    },
    {
     "name": "stderr",
     "output_type": "stream",
     "text": [
      "/opt/anaconda3/lib/python3.8/site-packages/seaborn/_decorators.py:36: FutureWarning: Pass the following variables as keyword args: x, y. From version 0.12, the only valid positional argument will be `data`, and passing other arguments without an explicit keyword will result in an error or misinterpretation.\n",
      "  warnings.warn(\n"
     ]
    },
    {
     "data": {
      "text/plain": [
       "Text(0.5, 1.0, 'Scoring for different class weights')"
      ]
     },
     "execution_count": 133,
     "metadata": {},
     "output_type": "execute_result"
    },
    {
     "data": {
      "image/png": "[encoded data removed]",
      "text/plain": [
       "<Figure size 864x576 with 1 Axes>"
      ]
     },
     "metadata": {
      "needs_background": "light"
     },
     "output_type": "display_data"
    }
   ],
   "source": [
    "# Hypertuning Parameters to find the best class_weight parameter\n",
    "from sklearn.model_selection import GridSearchCV, StratifiedKFold\n",
    "lr = LogisticRegression(solver='newton-cg')\n",
    "\n",
    "#Setting the range for class weights\n",
    "weights = np.linspace(0.0,0.99,200)\n",
    "\n",
    "#Creating a dictionary grid for grid search\n",
    "param_grid = {'class_weight': [{0:x, 1:1.0-x} for x in weights]}\n",
    "\n",
    "#Fitting grid search to the train data with 5 folds\n",
    "gridsearch = GridSearchCV(estimator= lr, param_grid= param_grid, cv=StratifiedKFold(), n_jobs=-1, scoring='f1', verbose=2).fit(X_train, y_train)\n",
    "\n",
    "#Ploting the score for different values of weight\n",
    "plt.figure(figsize=(12,8))\n",
    "weigh_data = pd.DataFrame({ 'score': gridsearch.cv_results_['mean_test_score'], 'weight': (1- weights)})\n",
    "sns.lineplot(weigh_data['weight'], weigh_data['score'])\n",
    "plt.xlabel('Weight for class 1')\n",
    "plt.ylabel('F1 score')\n",
    "plt.xticks([round(i/10,1) for i in range(0,11,1)])\n",
    "plt.title('Scoring for different class weights', fontsize=24)"
   ]
  },
  {
   "cell_type": "code",
   "execution_count": 136,
   "id": "8bdc226d",
   "metadata": {},
   "outputs": [],
   "source": [
    "# Initializing and fitting Logistic Regression Model \n",
    "lr = LogisticRegression(random_state=133, max_iter=9000, class_weight =0.80)\n",
    "lr.fit(X_train, y_train)\n",
    "\n",
    "# using our model to predict\n",
    "y_pred = lr.predict(X_test)\n"
   ]
  },
  {
   "cell_type": "markdown",
   "id": "1a7a9c53",
   "metadata": {},
   "source": [
    "#### Evaluation of the Model "
   ]
  },
  {
   "cell_type": "code",
   "execution_count": 137,
   "id": "bc6148ea",
   "metadata": {},
   "outputs": [
    {
     "name": "stdout",
     "output_type": "stream",
     "text": [
      "Accuracy Score: 0.8491704374057315\n",
      "[0.86792453 0.86037736 0.84528302 0.84150943 0.87924528 0.88679245\n",
      " 0.8754717  0.87169811 0.8490566  0.85984848]\n",
      "0.8637206975414523\n"
     ]
    }
   ],
   "source": [
    "from sklearn.model_selection import cross_val_score\n",
    "\n",
    "print(\"Accuracy Score:\",accuracy_score(y_test, y_pred))\n",
    "\n",
    "print(cross_val_score(lr, X_train, y_train, cv=10))\n",
    "\n",
    "print(np.mean(cross_val_score(lr, X_train, y_train, cv=10)))"
   ]
  },
  {
   "cell_type": "code",
   "execution_count": 138,
   "id": "471a2179",
   "metadata": {},
   "outputs": [
    {
     "name": "stdout",
     "output_type": "stream",
     "text": [
      "              precision    recall  f1-score   support\n",
      "\n",
      "       False       0.87      0.96      0.92       565\n",
      "        True       0.47      0.19      0.28        98\n",
      "\n",
      "    accuracy                           0.85       663\n",
      "   macro avg       0.67      0.58      0.60       663\n",
      "weighted avg       0.81      0.85      0.82       663\n",
      "\n"
     ]
    },
    {
     "data": {
      "image/png": "[encoded data removed]",
      "text/plain": [
       "<Figure size 432x288 with 2 Axes>"
      ]
     },
     "metadata": {
      "needs_background": "light"
     },
     "output_type": "display_data"
    }
   ],
   "source": [
    "# Model's results \n",
    "print(classification_report(y_test, y_pred))\n",
    "\n",
    "#Model's results displayed as confusion matrix \n",
    "skplt.metrics.plot_confusion_matrix(y_test, y_pred, title = \"LR Confusion Matrix\", cmap = 'Greens');\n"
   ]
  },
  {
   "cell_type": "markdown",
   "id": "e68b9888",
   "metadata": {},
   "source": [
    "#### Model Conclusions\n",
    "\n",
    "**Overall I feel the logistic regression model did okay. The accuracy score looks good sitting at a average of 0.863% after cross validation. My concern is the significantly lower F1 score for true samples. The models was only able to accurately label this category 20% of the time. Looking at the support values it is clear that we do not have sufficent data for churned customers. Lets see if we can try a more robust model to get a better result.**"
   ]
  },
  {
   "cell_type": "markdown",
   "id": "fd3b0c98",
   "metadata": {},
   "source": [
    "## Random Forest Classifier"
   ]
  },
  {
   "cell_type": "code",
   "execution_count": 139,
   "id": "b5a837fc",
   "metadata": {},
   "outputs": [
    {
     "data": {
      "text/plain": [
       "[<matplotlib.lines.Line2D at 0x7fce277ee490>]"
      ]
     },
     "execution_count": 139,
     "metadata": {},
     "output_type": "execute_result"
    },
    {
     "data": {
      "image/png": "[encoded data removed]",
      "text/plain": [
       "<Figure size 432x288 with 1 Axes>"
      ]
     },
     "metadata": {
      "needs_background": "light"
     },
     "output_type": "display_data"
    }
   ],
   "source": [
    "# Hyper Parameter Tuning for Random Forest model\n",
    "numberoftrees = range(1, 100)\n",
    "scores = []\n",
    "\n",
    "# for loop\n",
    "for n in numberoftrees:\n",
    "    # in the n_estimators parameter, we're going to be testing all the values found in our range\n",
    "    rf = RandomForestClassifier(n_estimators=n, random_state=1337)\n",
    "    # fitting our model\n",
    "    rf.fit(X_train, y_train)\n",
    "    #prediction\n",
    "    y_pred = rf.predict(X_test)\n",
    "    # appending our result to variable scores\n",
    "    scores.append(accuracy_score(y_test, y_pred))\n",
    "\n",
    "# plotting our results\n",
    "plt.plot(numberoftrees, scores)"
   ]
  },
  {
   "cell_type": "markdown",
   "id": "92cace79",
   "metadata": {},
   "source": [
    "**Looks like we are hitting a peak score with a n_estimator value of around 75. Lets initiate the model and plug in the findings.** "
   ]
  },
  {
   "cell_type": "code",
   "execution_count": 140,
   "id": "08538483",
   "metadata": {},
   "outputs": [],
   "source": [
    "# Initilizing Random Forst model and fitting \n",
    "rf = RandomForestClassifier(n_estimators=76)\n",
    "rf.fit(X_train, y_train)\n",
    "\n",
    "# using our model to predict\n",
    "y_pred = rf.predict(X_test)\n"
   ]
  },
  {
   "cell_type": "markdown",
   "id": "618f212f",
   "metadata": {},
   "source": [
    "#### Model Evaluation"
   ]
  },
  {
   "cell_type": "code",
   "execution_count": 141,
   "id": "e161a5ff",
   "metadata": {},
   "outputs": [
    {
     "name": "stdout",
     "output_type": "stream",
     "text": [
      "Accuracy Score: 0.9622926093514329\n",
      "[0.86792453 0.86037736 0.84528302 0.84150943 0.87924528 0.88679245\n",
      " 0.8754717  0.87169811 0.8490566  0.85984848]\n",
      "0.8637206975414523\n"
     ]
    }
   ],
   "source": [
    "from sklearn.model_selection import cross_val_score\n",
    "\n",
    "print(\"Accuracy Score:\",accuracy_score(y_test, y_pred))\n",
    "\n",
    "print(cross_val_score(lr, X_train, y_train, cv=10))\n",
    "\n",
    "print(np.mean(cross_val_score(lr, X_train, y_train, cv=10)))\n"
   ]
  },
  {
   "cell_type": "code",
   "execution_count": 142,
   "id": "5fc64353",
   "metadata": {},
   "outputs": [
    {
     "name": "stdout",
     "output_type": "stream",
     "text": [
      "              precision    recall  f1-score   support\n",
      "\n",
      "       False       0.96      1.00      0.98       565\n",
      "        True       1.00      0.74      0.85        98\n",
      "\n",
      "    accuracy                           0.96       663\n",
      "   macro avg       0.98      0.87      0.92       663\n",
      "weighted avg       0.96      0.96      0.96       663\n",
      "\n"
     ]
    },
    {
     "data": {
      "image/png": "[encoded data removed]",
      "text/plain": [
       "<Figure size 432x288 with 2 Axes>"
      ]
     },
     "metadata": {
      "needs_background": "light"
     },
     "output_type": "display_data"
    }
   ],
   "source": [
    "# Model's results \n",
    "print(classification_report(y_test, y_pred))\n",
    "\n",
    "#Model's results displayed as confusion matrix \n",
    "skplt.metrics.plot_confusion_matrix(y_test, y_pred, title = \"LR Confusion Matrix\", cmap = 'Greens');"
   ]
  },
  {
   "cell_type": "markdown",
   "id": "6744fc87",
   "metadata": {},
   "source": [
    "#### Model Conclusions"
   ]
  },
  {
   "cell_type": "markdown",
   "id": "1853f2cd",
   "metadata": {},
   "source": [
    "**The results for the Random Forest model are looking much more promising. It looks like the false positives for customer churn have decreased from 79 to 25. The F1 score also jumped from 0.28 to 0.85. I still feel that for both models to be more successful, I need to acquire more data points on customers that have churned. They are achieving the same accuracy score, and I feel that the lack of data on churned customers might be the cause.** "
   ]
  },
  {
   "cell_type": "markdown",
   "id": "01d96fc3",
   "metadata": {},
   "source": [
    "#### Feature Importance for Random Forest "
   ]
  },
  {
   "cell_type": "code",
   "execution_count": 144,
   "id": "7a898596",
   "metadata": {
    "scrolled": false
   },
   "outputs": [
    {
     "data": {
      "text/plain": [
       "<AxesSubplot:title={'center':'Feature Importance for Random Forest Model'}>"
      ]
     },
     "execution_count": 144,
     "metadata": {},
     "output_type": "execute_result"
    },
    {
     "data": {
      "image/png": "[encoded data removed]",
      "text/plain": [
       "<Figure size 1080x720 with 1 Axes>"
      ]
     },
     "metadata": {
      "needs_background": "light"
     },
     "output_type": "display_data"
    }
   ],
   "source": [
    "feature_names = X.columns\n",
    "\n",
    "skplt.estimators.plot_feature_importances(rf, feature_names=feature_names, figsize=(15, 10), x_tick_rotation=90, title = 'Feature Importance for Random Forest Model')"
   ]
  },
  {
   "cell_type": "markdown",
   "id": "a1c2a1eb",
   "metadata": {},
   "source": [
    "**I am curious how many of our churned customers were signed up for a international_plan and how many service calls they were making. With free serivces like Zoom and Skype, the need for international phone calls doesn't seem as necessary as it used to be. Perhaps a characteristic of the companies International plan is contributing customer churn.** \n",
    "\n",
    "**It appears that total_spend is being weighted the heaviest in the model.**\n",
    "\n",
    "**Lets hone into the churned customer base.** "
   ]
  },
  {
   "cell_type": "markdown",
   "id": "fd98d8bd",
   "metadata": {},
   "source": [
    "## Churned Customer Analysis "
   ]
  },
  {
   "cell_type": "markdown",
   "id": "289c3cb9",
   "metadata": {},
   "source": [
    "Note: customers who have churned are categorized as True"
   ]
  },
  {
   "cell_type": "code",
   "execution_count": 39,
   "id": "e07d6a1f",
   "metadata": {},
   "outputs": [],
   "source": [
    "# Creating a DF of only churned customers \n",
    "churned = df.loc[df['Churn'] == True]"
   ]
  },
  {
   "cell_type": "code",
   "execution_count": 40,
   "id": "be4357f2",
   "metadata": {},
   "outputs": [],
   "source": [
    "# Creating a DF of only non-churned customers \n",
    "non_churned = df.loc[df['Churn'] == False]"
   ]
  },
  {
   "cell_type": "code",
   "execution_count": 41,
   "id": "9600987c",
   "metadata": {},
   "outputs": [
    {
     "data": {
      "text/plain": [
       "International_plan\n",
       "False    346\n",
       "True     137\n",
       "dtype: int64"
      ]
     },
     "execution_count": 41,
     "metadata": {},
     "output_type": "execute_result"
    }
   ],
   "source": [
    "# How many churned customers were signed up for International Calling Plans\n",
    "churned.groupby('International_plan').size()"
   ]
  },
  {
   "cell_type": "markdown",
   "id": "3df04e9c",
   "metadata": {},
   "source": [
    "**39.5% of the churned customers were signed up for an international plan.**"
   ]
  },
  {
   "cell_type": "code",
   "execution_count": 42,
   "id": "806eae13",
   "metadata": {},
   "outputs": [
    {
     "data": {
      "text/plain": [
       "International_plan\n",
       "False    2664\n",
       "True      186\n",
       "dtype: int64"
      ]
     },
     "execution_count": 42,
     "metadata": {},
     "output_type": "execute_result"
    }
   ],
   "source": [
    "# How many non-churned customers are signed up for International Calling Plans\n",
    "non_churned.groupby('International_plan').size()"
   ]
  },
  {
   "cell_type": "markdown",
   "id": "fcddf924",
   "metadata": {},
   "source": [
    "**7% of the non-churned customers were signed up for a international plan.**"
   ]
  },
  {
   "cell_type": "markdown",
   "id": "f24d3579",
   "metadata": {},
   "source": [
    "**Next, lets take a look at how service calls are distributed across the two groups of customers.**"
   ]
  },
  {
   "cell_type": "code",
   "execution_count": 43,
   "id": "4cfe1104",
   "metadata": {},
   "outputs": [
    {
     "data": {
      "text/plain": [
       "1077"
      ]
     },
     "execution_count": 43,
     "metadata": {},
     "output_type": "execute_result"
    }
   ],
   "source": [
    "churned['Customer_service_calls'].sum()"
   ]
  },
  {
   "cell_type": "code",
   "execution_count": 44,
   "id": "2a1ef9c8",
   "metadata": {},
   "outputs": [
    {
     "data": {
      "text/plain": [
       "4132"
      ]
     },
     "execution_count": 44,
     "metadata": {},
     "output_type": "execute_result"
    }
   ],
   "source": [
    "non_churned['Customer_service_calls'].sum()"
   ]
  },
  {
   "cell_type": "markdown",
   "id": "44c58f70",
   "metadata": {},
   "source": [
    "**Very interesting to see that although churned customers only make up 14% of the customer base, they are responsible for 20% of service calls. Finally lets compare total spending between the two groups of customers, as well as their account lengths.**"
   ]
  },
  {
   "cell_type": "code",
   "execution_count": 45,
   "id": "6a888b0f",
   "metadata": {},
   "outputs": [
    {
     "data": {
      "text/plain": [
       "65.36"
      ]
     },
     "execution_count": 45,
     "metadata": {},
     "output_type": "execute_result"
    }
   ],
   "source": [
    "round(churned['total_spend'].mean(),2)"
   ]
  },
  {
   "cell_type": "code",
   "execution_count": 46,
   "id": "92c627a6",
   "metadata": {},
   "outputs": [
    {
     "data": {
      "text/plain": [
       "58.45"
      ]
     },
     "execution_count": 46,
     "metadata": {},
     "output_type": "execute_result"
    }
   ],
   "source": [
    "round(non_churned['total_spend'].mean(),2)"
   ]
  },
  {
   "cell_type": "markdown",
   "id": "a5dabdf0",
   "metadata": {},
   "source": [
    "**On average, churned customers were spending more than those who did not churn.**\n"
   ]
  },
  {
   "cell_type": "code",
   "execution_count": 47,
   "id": "42796848",
   "metadata": {},
   "outputs": [
    {
     "data": {
      "text/plain": [
       "103"
      ]
     },
     "execution_count": 47,
     "metadata": {},
     "output_type": "execute_result"
    }
   ],
   "source": [
    "round(churned['Account_length'].mean())"
   ]
  },
  {
   "cell_type": "code",
   "execution_count": 48,
   "id": "0281e7b5",
   "metadata": {
    "scrolled": true
   },
   "outputs": [
    {
     "data": {
      "text/plain": [
       "101"
      ]
     },
     "execution_count": 48,
     "metadata": {},
     "output_type": "execute_result"
    }
   ],
   "source": [
    "round(non_churned['Account_length'].mean())"
   ]
  },
  {
   "cell_type": "markdown",
   "id": "4beba30e",
   "metadata": {},
   "source": [
    "**Not a significant difference between churned and non-churned account lengths.**"
   ]
  },
  {
   "cell_type": "markdown",
   "id": "16852a76",
   "metadata": {},
   "source": [
    "**What percentage of customers churned in each state?**"
   ]
  },
  {
   "cell_type": "code",
   "execution_count": 64,
   "id": "9821c500",
   "metadata": {},
   "outputs": [
    {
     "data": {
      "text/plain": [
       "State\n",
       "California              26.470588\n",
       "New Jersey              26.470588\n",
       "Texas                   25.000000\n",
       "Maryland                24.285714\n",
       "South Carolina          23.333333\n",
       "Michigan                21.917808\n",
       "Mississippi             21.538462\n",
       "Washington              21.212121\n",
       "Nevada                  21.212121\n",
       "Maine                   20.967742\n",
       "Montana                 20.588235\n",
       "Arkansas                20.000000\n",
       "Kansas                  18.571429\n",
       "New York                18.072289\n",
       "Minnesota               17.857143\n",
       "Pennsylvania            17.777778\n",
       "Massachusetts           16.923077\n",
       "Connecticut             16.216216\n",
       "North Carolina          16.176471\n",
       "New Hampshire           16.071429\n",
       "Georgia                 14.814815\n",
       "Delaware                14.754098\n",
       "Oklahoma                14.754098\n",
       "Oregon                  14.102564\n",
       "Utah                    13.888889\n",
       "Colorado                13.636364\n",
       "Kentucky                13.559322\n",
       "South Dakota            13.333333\n",
       "Ohio                    12.820513\n",
       "Florida                 12.698413\n",
       "Indiana                 12.676056\n",
       "Idaho                   12.328767\n",
       "Wyoming                 11.688312\n",
       "Missouri                11.111111\n",
       "Vermont                 10.958904\n",
       "Alabama                 10.000000\n",
       "New Mexico               9.677419\n",
       "North Dakota             9.677419\n",
       "West Virginia            9.433962\n",
       "Tennessee                9.433962\n",
       "District of Columbia     9.259259\n",
       "Rhode Island             9.230769\n",
       "Wisconsin                8.974359\n",
       "Illinois                 8.620690\n",
       "Nebraska                 8.196721\n",
       "Louisiana                7.843137\n",
       "Iowa                     6.818182\n",
       "Virginia                 6.493506\n",
       "Arizona                  6.250000\n",
       "Alaska                   5.769231\n",
       "Hawaii                   5.660377\n",
       "dtype: float64"
      ]
     },
     "execution_count": 64,
     "metadata": {},
     "output_type": "execute_result"
    }
   ],
   "source": [
    "churn_percentage = (churned.groupby('State').size() / df.groupby('State').size() * 100).sort_values(ascending = False)\n",
    "churn_percentage"
   ]
  },
  {
   "cell_type": "markdown",
   "id": "706bb20d",
   "metadata": {},
   "source": [
    "## Conclusions/Next Steps  "
   ]
  },
  {
   "cell_type": "markdown",
   "id": "08d792c4",
   "metadata": {},
   "source": [
    "After analyzing the telecom companies customer data, I was able to draw the following conclusions:\n",
    "\n",
    "* It is a positive sign for the company that out of the 3333 customers in the database, only 14% of them were churned. It would be beneficial to have access to more data for churned customers. This would help to give the models more information to train on and improve their ability to predict for churn. If the data provided is just a snapshot of the companies total data. I would request more data for training and analysis. \n",
    "\n",
    "\n",
    "\n",
    "\n",
    "* When looking at how much money is generated by each type of call (day, evening, night, international) it is pretty clear that international calls are making up a very small portion of the companies income. With access to free calling apps like zoom and skype, international calling could soon be a service phone companies are no longer bundling into plans. It is likely this trend will continue over time as a higher percent of the population becomes comfortable using these newer communication platforms. 36% of churned customers were signed up for International Calling plans. I would suggest looking at how the phone plans are bundled. Are customers able to opt out of International Calling plans if they do not require them?. Also, it appears that although making up a small percentage of total calls, international calls tend to be the longest on average. \n",
    "\n",
    "\n",
    "\n",
    "\n",
    "\n",
    "* One of the highest correlated variables related to churn was Customer Service Calls. This was shown in the correlation matrix as well as the Feature Importance graph for the Random Forest model. My recommendation would be to hone in on specific hot spots for service calls. It might be worth allocating more resources to these regions. Long turn around times and failure to solve customer issues will result in unsatisfied customers. My recommendation would be to investigate staffing levels in the high volume areas, as well as one on ones or team meetings with customer service teams to ensure there are no gaps in employee knowledge or if any customer service protocols could be streamlined. \n",
    "\n",
    "\n",
    "\n",
    "\n",
    "\n",
    "\n",
    "* The income for the company is pretty well spread out across the States. There are a few outliers at the top and bottom of the list. It might be worth working with the marketing team to gain more traction in the underperforming states. The bottom 5 states in terms of number of customers were Alaska(52),Louisiana(51),Pennsylvania(45)Iowa(44) and California(34). Some of these States also displayed the highest percentage of customer churn.\n",
    "\n",
    "\n",
    "\n",
    "* My main recommendation was that we need more data on customers who have churned. With a larger data set,buliding an unsupervised clustering model could help with grouping customers into further sub-sets. The company would be able to better understand the behaviour of their customers. This could help the marketing team with personilizing ad campaigns.\n",
    "\n",
    "\n",
    "* I do not feel that there are any unethical implications regarding this data set. Since I have no demographic information about the customers themselves or, the context for their phone activity, I am only able to make observations on the customer’s phone usage and which State they live in. \n"
   ]
  },
  {
   "cell_type": "code",
   "execution_count": null,
   "id": "996d5003",
   "metadata": {},
   "outputs": [],
   "source": []
  }
 ],
 "metadata": {
  "kernelspec": {
   "display_name": "Python 3",
   "language": "python",
   "name": "python3"
  },
  "language_info": {
   "codemirror_mode": {
    "name": "ipython",
    "version": 3
   },
   "file_extension": ".py",
   "mimetype": "text/x-python",
   "name": "python",
   "nbconvert_exporter": "python",
   "pygments_lexer": "ipython3",
   "version": "3.8.8"
  },
  "varInspector": {
   "cols": {
    "lenName": 16,
    "lenType": 16,
    "lenVar": 40
   },
   "kernels_config": {
    "python": {
     "delete_cmd_postfix": "",
     "delete_cmd_prefix": "del ",
     "library": "var_list.py",
     "varRefreshCmd": "print(var_dic_list())"
    },
    "r": {
     "delete_cmd_postfix": ") ",
     "delete_cmd_prefix": "rm(",
     "library": "var_list.r",
     "varRefreshCmd": "cat(var_dic_list()) "
    }
   },
   "position": {
    "height": "369.83px",
    "left": "1407.44px",
    "right": "20px",
    "top": "120px",
    "width": "318.011px"
   },
   "types_to_exclude": [
    "module",
    "function",
    "builtin_function_or_method",
    "instance",
    "_Feature"
   ],
   "window_display": true
  }
 },
 "nbformat": 4,
 "nbformat_minor": 5
}
